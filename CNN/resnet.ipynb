{
  "cells": [
    {
      "cell_type": "code",
      "execution_count": 1,
      "metadata": {
        "id": "lvvkF0pWzOjn"
      },
      "outputs": [],
      "source": [
        "import torch\n",
        "import torch.nn as nn\n",
        "import torch.nn.functional as F\n",
        "from torch.utils.data import Dataset, DataLoader\n",
        "import matplotlib.pyplot as plt\n",
        "import pandas as pd"
      ]
    },
    {
      "cell_type": "code",
      "execution_count": 2,
      "metadata": {
        "id": "jXZqtu5Y1rbj"
      },
      "outputs": [],
      "source": [
        "LEARNING_RATE = 3e-4\n",
        "BATCH_SIZE = 16\n",
        "BLOCK_SIZE = 3\n",
        "EPOCHS = 5\n",
        "DEVICE = \"cuda\" if torch.cuda.is_available() else \"cpu\""
      ]
    },
    {
      "cell_type": "code",
      "execution_count": 4,
      "metadata": {
        "id": "fTYtNffR1vfB"
      },
      "outputs": [],
      "source": [
        "def get_data(path):\n",
        "  data = pd.read_csv(path).drop(labels=['Y'], axis=1)\n",
        "  labels = pd.read_csv(path)['Y']\n",
        "  data = torch.tensor(data.values)[:, 1::].float()\n",
        "  data = ((data - data.mean()) / data.std())\n",
        "  labels = torch.tensor(labels.values).float()\n",
        "  return data, labels"
      ]
    },
    {
      "cell_type": "code",
      "execution_count": 5,
      "metadata": {
        "id": "pQal-n5_6WKK"
      },
      "outputs": [],
      "source": [
        "train_data, train_labels = get_data(\"train_data.csv\")\n",
        "test_data, test_labels   = get_data(\"test_data.csv\")"
      ]
    },
    {
      "cell_type": "code",
      "execution_count": 6,
      "metadata": {
        "colab": {
          "base_uri": "https://localhost:8080/",
          "height": 447
        },
        "id": "hsAuokYB186b",
        "outputId": "a6aa9773-53cc-4a51-acda-e40f5713f5f8"
      },
      "outputs": [
        {
          "data": {
            "text/plain": [
              "<matplotlib.image.AxesImage at 0x7aeac4af0550>"
            ]
          },
          "execution_count": 6,
          "metadata": {},
          "output_type": "execute_result"
        },
        {
          "data": {
            "image/png": "[encoded data removed]",
            "text/plain": [
              "<Figure size 640x480 with 1 Axes>"
            ]
          },
          "metadata": {},
          "output_type": "display_data"
        }
      ],
      "source": [
        "plt.imshow(train_data[0].view((28, 28)))"
      ]
    },
    {
      "cell_type": "code",
      "execution_count": 7,
      "metadata": {
        "id": "1gtpDmai3noL"
      },
      "outputs": [],
      "source": [
        "class MnistData(Dataset):\n",
        "  def __init__(self, x, y):\n",
        "    self.x = x\n",
        "    self.y = y\n",
        "\n",
        "  def __len__(self):\n",
        "    return self.x.shape[0]\n",
        "\n",
        "  def __getitem__(self, idx):\n",
        "    return (self.x[idx], self.y[idx])"
      ]
    },
    {
      "cell_type": "code",
      "execution_count": 8,
      "metadata": {
        "id": "X9LmxItW6G6i"
      },
      "outputs": [],
      "source": [
        "train_data = DataLoader(MnistData(train_data, train_labels), BATCH_SIZE, shuffle=True)\n",
        "test_data  = DataLoader(MnistData(test_data,   test_labels), BATCH_SIZE, shuffle=True)"
      ]
    },
    {
      "cell_type": "code",
      "execution_count": 17,
      "metadata": {
        "id": "_LeEjpgz5sQW"
      },
      "outputs": [],
      "source": [
        "class ANN(nn.Module):\n",
        "  def __init__(self):\n",
        "    super().__init__()\n",
        "    self.l1 = nn.Linear(784, 512)\n",
        "    self.b1 = nn.BatchNorm1d(512)\n",
        "    self.l2 = nn.Linear(512, 128)\n",
        "    self.b2 = nn.BatchNorm1d(128)\n",
        "    self.l3 = nn.Linear(128, 10)\n",
        "    self.b3 = nn.BatchNorm1d(10)\n",
        "\n",
        "  def forward(self, x):\n",
        "    o1 = F.relu(self.b1(self.l1(x)))\n",
        "    o2 = F.relu(self.b2(self.l2(o1)))\n",
        "    o3 = F.relu(self.b3(self.l3(o2)))\n",
        "\n",
        "    return o3"
      ]
    },
    {
      "cell_type": "code",
      "execution_count": 26,
      "metadata": {
        "id": "bDDN5hW7BoZf"
      },
      "outputs": [],
      "source": [
        "class DeepNet(nn.Module):\n",
        "  def __init__(self):\n",
        "    super().__init__()\n",
        "    self.l1  = nn.Sequential(nn.Linear(784,  700),  nn.BatchNorm1d(700),  nn.ReLU())\n",
        "    self.l2  = nn.Sequential(nn.Linear(700,  650),  nn.BatchNorm1d(650),  nn.ReLU())\n",
        "    self.l3  = nn.Sequential(nn.Linear(650,  600),  nn.BatchNorm1d(600),  nn.ReLU())\n",
        "    self.l4  = nn.Sequential(nn.Linear(600,  550),  nn.BatchNorm1d(550),  nn.ReLU())\n",
        "    self.l5  = nn.Sequential(nn.Linear(550,  500),  nn.BatchNorm1d(500),  nn.ReLU())\n",
        "    self.l6  = nn.Sequential(nn.Linear(500,  450),  nn.BatchNorm1d(450),  nn.ReLU())\n",
        "    self.l7  = nn.Sequential(nn.Linear(450,  400),  nn.BatchNorm1d(400),  nn.ReLU())\n",
        "    self.l8  = nn.Sequential(nn.Linear(400,  350),  nn.BatchNorm1d(350),  nn.ReLU())\n",
        "    self.l9  = nn.Sequential(nn.Linear(350,  300),  nn.BatchNorm1d(300),  nn.ReLU())\n",
        "    self.l10 = nn.Sequential(nn.Linear(300,  250),  nn.BatchNorm1d(250),  nn.ReLU())\n",
        "    self.l11 = nn.Sequential(nn.Linear(250,  200),  nn.BatchNorm1d(200),  nn.ReLU())\n",
        "    self.l12 = nn.Sequential(nn.Linear(200,  150),  nn.BatchNorm1d(150),  nn.ReLU())\n",
        "    self.l13 = nn.Sequential(nn.Linear(150,  100),  nn.BatchNorm1d(100),  nn.ReLU())\n",
        "    self.l14 = nn.Sequential(nn.Linear(100,   50),  nn.BatchNorm1d(50),   nn.ReLU())\n",
        "    self.l15 = nn.Sequential(nn.Linear(50,    32),  nn.BatchNorm1d(32),   nn.ReLU())\n",
        "    self.l16 = nn.Sequential(nn.Linear(32,    16),  nn.BatchNorm1d(16),   nn.ReLU())\n",
        "    self.l17 = nn.Sequential(nn.Linear(16,    10),  nn.BatchNorm1d(10),   nn.ReLU())\n",
        "\n",
        "    self.full = nn.Sequential(\n",
        "      self.l1, self.l2, self.l3, self.l4, self.l5, self.l6, self.l7, self.l8,\n",
        "      self.l9, self.l10, self.l11, self.l12, self.l13, self.l14, self.l15,\n",
        "      self.l16, self.l17\n",
        "    )\n",
        "\n",
        "\n",
        "  def forward(self, x):\n",
        "    return self.full(x)"
      ]
    },
    {
      "cell_type": "code",
      "execution_count": 67,
      "metadata": {
        "id": "O15olFtiEMZW"
      },
      "outputs": [],
      "source": [
        "class Block(nn.Module):\n",
        "  def __init__(self, d0, d1, d2, d3):\n",
        "    super().__init__()\n",
        "    self.full = nn.Sequential(\n",
        "        nn.Linear(d0, d1), nn.BatchNorm1d(d1), nn.ReLU(),\n",
        "        nn.Linear(d1, d2), nn.BatchNorm1d(d2), nn.ReLU(),\n",
        "        nn.Linear(d2, d3), nn.BatchNorm1d(d3), nn.ReLU()\n",
        "    )\n",
        "\n",
        "  def forward(self, x):\n",
        "    return self.full(x)\n",
        "\n",
        "\n",
        "class ResNet(nn.Module):\n",
        "  def __init__(self):\n",
        "    super().__init__()\n",
        "    self.l1 = nn.Linear(784, 700)\n",
        "    self.b1 = Block(700, 650, 600, 550)\n",
        "    self.b2 = Block(550, 500, 450, 400)\n",
        "    self.b3 = Block(400, 350, 300, 250)\n",
        "    self.b4 = Block(250, 200, 150, 100)\n",
        "    self.b5 = Block(100,  64,  32,  16)\n",
        "    self.l2 = nn.Linear(16, 10)\n",
        "\n",
        "  def forward(self, x):\n",
        "    o1 = self.l1(x)\n",
        "    o2 = self.b1(o1 +  x[:, 42:-42])\n",
        "    o3 = self.b2(o2 + o1[:, 75:-75])\n",
        "    o4 = self.b3(o3 + o2[:, 75:-75])\n",
        "    o5 = self.b4(o4 + o3[:, 75:-75])\n",
        "    o6 = self.b5(o5 + o4[:, 75:-75])\n",
        "    output = self.l2(o6)\n",
        "\n",
        "    return output"
      ]
    },
    {
      "cell_type": "code",
      "execution_count": 69,
      "metadata": {
        "id": "8MeeUEsP6Ak4"
      },
      "outputs": [],
      "source": [
        "def train_epoch(data, model, optim):\n",
        "  lossi = []\n",
        "  for x, y in data:\n",
        "    x = x.to(DEVICE)\n",
        "    y = y.type(torch.LongTensor)\n",
        "    y = y.to(DEVICE)\n",
        "\n",
        "    output = model(x.float())\n",
        "    loss = F.cross_entropy(output, y)\n",
        "\n",
        "    optim.zero_grad()\n",
        "    loss.backward()\n",
        "    optim.step()\n",
        "\n",
        "    lossi.append(loss.item())\n",
        "\n",
        "  return torch.tensor(lossi).mean()\n",
        "\n",
        "\n",
        "def test_epoch(data, model):\n",
        "  lossi = []\n",
        "  for x, y in data:\n",
        "    x = x.to(DEVICE)\n",
        "    y = y.type(torch.LongTensor)\n",
        "    y = y.to(DEVICE)\n",
        "\n",
        "    output = model(x.float())\n",
        "    loss = F.cross_entropy(output, y)\n",
        "\n",
        "    lossi.append(loss.item())\n",
        "\n",
        "  return torch.tensor(lossi).mean()"
      ]
    },
    {
      "cell_type": "code",
      "execution_count": 72,
      "metadata": {
        "id": "sXf8tm7KKy4X"
      },
      "outputs": [],
      "source": [
        "def train(train_data, test_data, model, optim):\n",
        "  train_lossi, test_lossi = [], []\n",
        "  for epoch in range(EPOCHS):\n",
        "    train_lossi.append(train_epoch(train_data, model, optim))\n",
        "    test_lossi.append(test_epoch(test_data, model))\n",
        "\n",
        "    print(f\"EPOCH: {epoch}  |  TRAIN_LOSS: {train_lossi[-1]}  |  TEST_LOSS: {test_lossi[-1]}\")\n",
        "\n",
        "  return train_lossi, test_lossi"
      ]
    },
    {
      "cell_type": "code",
      "execution_count": 73,
      "metadata": {
        "colab": {
          "base_uri": "https://localhost:8080/"
        },
        "id": "DCCR7W-r7Dr6",
        "outputId": "5453b3f3-08df-48b7-95f2-d791369e4608"
      },
      "outputs": [
        {
          "name": "stdout",
          "output_type": "stream",
          "text": [
            "EPOCH: 0  |  TRAIN_LOSS: 0.6793863773345947  |  TEST_LOSS: 0.4849852919578552\n",
            "EPOCH: 1  |  TRAIN_LOSS: 0.40208500623703003  |  TEST_LOSS: 0.3363734781742096\n",
            "EPOCH: 2  |  TRAIN_LOSS: 0.2782300114631653  |  TEST_LOSS: 0.2571866512298584\n",
            "EPOCH: 3  |  TRAIN_LOSS: 0.21293310821056366  |  TEST_LOSS: 0.20345954596996307\n",
            "EPOCH: 4  |  TRAIN_LOSS: 0.17435944080352783  |  TEST_LOSS: 0.1784592717885971\n",
            "-------------------ANN TRAINING COMPLETE-------------------\n",
            "\n",
            "\n",
            "EPOCH: 0  |  TRAIN_LOSS: 0.9959632754325867  |  TEST_LOSS: 0.7218654155731201\n",
            "EPOCH: 1  |  TRAIN_LOSS: 0.6706960201263428  |  TEST_LOSS: 0.5692452788352966\n",
            "EPOCH: 2  |  TRAIN_LOSS: 0.550041139125824  |  TEST_LOSS: 0.45584413409233093\n",
            "EPOCH: 3  |  TRAIN_LOSS: 0.421406090259552  |  TEST_LOSS: 0.3633696138858795\n",
            "EPOCH: 4  |  TRAIN_LOSS: 0.32961004972457886  |  TEST_LOSS: 0.27043232321739197\n",
            "-------------------DEEPNET TRAINING COMPLETE-------------------\n",
            "\n",
            "\n",
            "EPOCH: 0  |  TRAIN_LOSS: 0.7085971832275391  |  TEST_LOSS: 0.3663354516029358\n",
            "EPOCH: 1  |  TRAIN_LOSS: 0.29737037420272827  |  TEST_LOSS: 0.2663751542568207\n",
            "EPOCH: 2  |  TRAIN_LOSS: 0.22580666840076447  |  TEST_LOSS: 0.19389887154102325\n",
            "EPOCH: 3  |  TRAIN_LOSS: 0.1796938180923462  |  TEST_LOSS: 0.20219048857688904\n",
            "EPOCH: 4  |  TRAIN_LOSS: 0.1526128351688385  |  TEST_LOSS: 0.16248345375061035\n",
            "-------------------RESNET TRAINING COMPLETE-------------------\n",
            "\n",
            "\n"
          ]
        }
      ],
      "source": [
        "model = ANN().to(DEVICE)\n",
        "optim = torch.optim.AdamW(model.parameters(), LEARNING_RATE)\n",
        "train_loss_ann, test_loss_ann = train(train_data, test_data, model, optim)\n",
        "print(f\"-------------------ANN TRAINING COMPLETE-------------------\\n\\n\")\n",
        "\n",
        "model = DeepNet().to(DEVICE)\n",
        "optim = torch.optim.AdamW(model.parameters(), LEARNING_RATE)\n",
        "train_loss_deep, test_loss_deep = train(train_data, test_data, model, optim)\n",
        "print(f\"-------------------DEEPNET TRAINING COMPLETE-------------------\\n\\n\")\n",
        "\n",
        "model = ResNet().to(DEVICE)\n",
        "optim = torch.optim.AdamW(model.parameters(), LEARNING_RATE)\n",
        "train_loss_res, test_loss_res = train(train_data, test_data, model, optim)\n",
        "print(f\"-------------------RESNET TRAINING COMPLETE-------------------\\n\\n\")"
      ]
    },
    {
      "cell_type": "code",
      "execution_count": 77,
      "metadata": {
        "colab": {
          "base_uri": "https://localhost:8080/",
          "height": 485
        },
        "id": "8QyPFQVb-4so",
        "outputId": "33c739fa-de64-4966-ff58-a827d522e2f0"
      },
      "outputs": [
        {
          "data": {
            "text/plain": [
              "<matplotlib.legend.Legend at 0x7aea9a824700>"
            ]
          },
          "execution_count": 77,
          "metadata": {},
          "output_type": "execute_result"
        },
        {
          "data": {
            "image/png": "[encoded data removed]",
            "text/plain": [
              "<Figure size 1000x500 with 2 Axes>"
            ]
          },
          "metadata": {},
          "output_type": "display_data"
        }
      ],
      "source": [
        "plt.figure(figsize=(10, 5))\n",
        "\n",
        "plt.subplot(1, 2, 1)\n",
        "plt.title(\"train loss\")\n",
        "plt.plot(train_loss_ann,  label=\"ANN\")\n",
        "plt.plot(train_loss_deep, label=\"Deep Net\")\n",
        "plt.plot(train_loss_res,  label=\"Res Net\")\n",
        "plt.legend()\n",
        "\n",
        "plt.subplot(1, 2, 2)\n",
        "plt.title(\"test loss\")\n",
        "plt.plot(test_loss_ann,  label=\"ANN\")\n",
        "plt.plot(test_loss_deep, label=\"Deep Net\")\n",
        "plt.plot(test_loss_res,  label=\"Res Net\")\n",
        "plt.legend()"
      ]
    }
  ],
  "metadata": {
    "accelerator": "GPU",
    "colab": {
      "gpuType": "T4",
      "provenance": []
    },
    "kernelspec": {
      "display_name": "Python 3",
      "name": "python3"
    },
    "language_info": {
      "name": "python"
    }
  },
  "nbformat": 4,
  "nbformat_minor": 0
}
