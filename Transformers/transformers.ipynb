{
 "cells": [
  {
   "cell_type": "markdown",
   "metadata": {
    "id": "WLddZA_ZAKK4"
   },
   "source": [
    "# Transformers\n",
    "\n",
    "Transformer and train it on text data.\n",
    "\n",
    "</br></br>"
   ]
  },
  {
   "cell_type": "markdown",
   "metadata": {
    "id": "4Q0nwUVWAQyB"
   },
   "source": [
    "### Import Data and Libraries\n",
    "---"
   ]
  },
  {
   "cell_type": "code",
   "execution_count": 93,
   "metadata": {
    "id": "vJP3Gb-I-vWw"
   },
   "outputs": [],
   "source": [
    "import torch\n",
    "import torch.nn as nn\n",
    "import torch.nn.functional as F\n",
    "import pandas as pd\n",
    "import matplotlib.pyplot as plt\n",
    "import seaborn as sns"
   ]
  },
  {
   "cell_type": "code",
   "execution_count": 94,
   "metadata": {
    "colab": {
     "base_uri": "https://localhost:8080/"
    },
    "id": "d1tanjXD-8FC",
    "outputId": "c99d4fc0-eb55-41e2-a823-91b45ceda6ce"
   },
   "outputs": [
    {
     "name": "stdout",
     "output_type": "stream",
     "text": [
      "--2024-09-21 04:25:29--  https://raw.githubusercontent.com/dscape/spell/refs/heads/master/test/resources/big.txt\n",
      "Resolving raw.githubusercontent.com (raw.githubusercontent.com)... 185.199.110.133, 185.199.108.133, 185.199.111.133, ...\n",
      "Connecting to raw.githubusercontent.com (raw.githubusercontent.com)|185.199.110.133|:443... connected.\n",
      "HTTP request sent, awaiting response... 200 OK\n",
      "Length: 6488666 (6.2M) [text/plain]\n",
      "Saving to: ‘big.txt.1’\n",
      "\n",
      "\rbig.txt.1             0%[                    ]       0  --.-KB/s               \rbig.txt.1           100%[===================>]   6.19M  --.-KB/s    in 0.09s   \n",
      "\n",
      "2024-09-21 04:25:29 (68.2 MB/s) - ‘big.txt.1’ saved [6488666/6488666]\n",
      "\n"
     ]
    }
   ],
   "source": [
    "!wget https://raw.githubusercontent.com/dscape/spell/refs/heads/master/test/resources/big.txt"
   ]
  },
  {
   "cell_type": "code",
   "execution_count": 95,
   "metadata": {
    "id": "SPNelQtO_BaT"
   },
   "outputs": [],
   "source": [
    "with open(\"big.txt\") as f:\n",
    "  text = f.read()"
   ]
  },
  {
   "cell_type": "code",
   "execution_count": 96,
   "metadata": {
    "colab": {
     "base_uri": "https://localhost:8080/",
     "height": 36
    },
    "id": "RjspcxzB_JNU",
    "outputId": "90dd5c47-1b24-45d0-9b56-8c737d181df9"
   },
   "outputs": [
    {
     "data": {
      "application/vnd.google.colaboratory.intrinsic+json": {
       "type": "string"
      },
      "text/plain": [
       "'The Project Gutenberg EBook of The Adventures of Sherlock Holmes\\nby Sir Arthur Conan Doyle\\n(#15 in o'"
      ]
     },
     "execution_count": 96,
     "metadata": {},
     "output_type": "execute_result"
    }
   ],
   "source": [
    "text[:100]"
   ]
  },
  {
   "cell_type": "markdown",
   "metadata": {
    "id": "DB-wIDnLAV9Y"
   },
   "source": [
    "</br></br>\n",
    "\n",
    "### Create Tokenizer and Preprocessor\n",
    "---"
   ]
  },
  {
   "cell_type": "code",
   "execution_count": 97,
   "metadata": {
    "id": "GT3sDLuE_KRj"
   },
   "outputs": [],
   "source": [
    "chars = set(text)\n",
    "\n",
    "stoi = {val:idx for (idx, val) in enumerate(chars)}\n",
    "itos = {val:key for (key, val) in stoi.items()}\n",
    "\n",
    "encode = lambda x: [stoi[i] for i in x]\n",
    "decode = lambda x: [itos[i] for i in x]"
   ]
  },
  {
   "cell_type": "code",
   "execution_count": 98,
   "metadata": {
    "id": "iImhQl0SO34H"
   },
   "outputs": [],
   "source": [
    "torch.manual_seed(1337)\n",
    "TRAIN_SIZE = 0.8\n",
    "CONTEXT_LENGTH = 8\n",
    "BATCH_SIZE = 32\n",
    "DEVICE = 'cuda' if torch.cuda.is_available() else 'cpu'\n",
    "EMBEDDING_DIM = 32\n",
    "VOCAB_SIZE = len(chars)\n",
    "TRANSFORMER_BLOCKS = 2\n",
    "ATTENTION_HEADS = 4\n",
    "MAX_ITERS = 2000\n",
    "LEARNING_RATE = 3e-4"
   ]
  },
  {
   "cell_type": "code",
   "execution_count": 99,
   "metadata": {
    "colab": {
     "base_uri": "https://localhost:8080/"
    },
    "id": "z5cpAZ6aAHgA",
    "outputId": "7f289a63-1f7e-4a7d-a70f-6167216f1deb"
   },
   "outputs": [
    {
     "data": {
      "text/plain": [
       "([26, 76, 69, 69, 63], ['t', '7', 'F', 'F', '>'])"
      ]
     },
     "execution_count": 99,
     "metadata": {},
     "output_type": "execute_result"
    }
   ],
   "source": [
    "encode(\"hello\"), decode([35, 14, 15, 15, 44])"
   ]
  },
  {
   "cell_type": "code",
   "execution_count": 100,
   "metadata": {
    "colab": {
     "base_uri": "https://localhost:8080/"
    },
    "id": "Zh2abLEYFryx",
    "outputId": "6b27771d-ec92-4b71-b8ce-7d3c5e692b01"
   },
   "outputs": [
    {
     "data": {
      "text/plain": [
       "torch.Size([6488666])"
      ]
     },
     "execution_count": 100,
     "metadata": {},
     "output_type": "execute_result"
    }
   ],
   "source": [
    "tokenized_text = torch.tensor(encode(text))\n",
    "tokenized_text.shape"
   ]
  },
  {
   "cell_type": "code",
   "execution_count": 101,
   "metadata": {
    "colab": {
     "base_uri": "https://localhost:8080/"
    },
    "id": "L7J5m9OIFvWh",
    "outputId": "bb833a7d-a74b-4a22-bc2a-95220a86e248"
   },
   "outputs": [
    {
     "data": {
      "text/plain": [
       "tensor([61, 35, 74,  ..., 90, 77, 73])"
      ]
     },
     "execution_count": 101,
     "metadata": {},
     "output_type": "execute_result"
    }
   ],
   "source": [
    "train_data = tokenized_text[:int(len(tokenized_text) * TRAIN_SIZE)]\n",
    "test_data  = tokenized_text[int(int(len(tokenized_text) * TRAIN_SIZE)):]\n",
    "\n",
    "train_data.to(DEVICE)\n",
    "test_data.to(DEVICE)"
   ]
  },
  {
   "cell_type": "code",
   "execution_count": 102,
   "metadata": {
    "colab": {
     "base_uri": "https://localhost:8080/"
    },
    "id": "moOMReHnJx2g",
    "outputId": "a633ed39-2fe5-4bf6-aced-4817fb3d4de0"
   },
   "outputs": [
    {
     "data": {
      "text/plain": [
       "tensor([[1, 2, 3],\n",
       "        [1, 2, 3]])"
      ]
     },
     "execution_count": 102,
     "metadata": {},
     "output_type": "execute_result"
    }
   ],
   "source": [
    "torch.stack((torch.tensor([1, 2, 3]), torch.tensor([1, 2, 3])))"
   ]
  },
  {
   "cell_type": "code",
   "execution_count": 103,
   "metadata": {
    "id": "XhNvTHU9BAgO"
   },
   "outputs": [],
   "source": [
    "# Kind of a stochastic mini batch approach\n",
    "\n",
    "def get_batch(data):\n",
    "  # 32 Random indices in data\n",
    "  indices = torch.randint(high=data.shape[0] - CONTEXT_LENGTH - 1, size=(BATCH_SIZE,))\n",
    "\n",
    "  # X_batch is just 32 x 8, Y_batch is X_batch offset by one\n",
    "  X_batch = torch.stack([data[i:i + CONTEXT_LENGTH].clone().detach()       for i in indices])\n",
    "  Y_batch = torch.stack([data[i+1:i + CONTEXT_LENGTH + 1].clone().detach() for i in indices])\n",
    "\n",
    "  return (X_batch.to(DEVICE), Y_batch.to(DEVICE))"
   ]
  },
  {
   "cell_type": "code",
   "execution_count": 104,
   "metadata": {
    "colab": {
     "base_uri": "https://localhost:8080/"
    },
    "id": "dAoK2GWnHeLX",
    "outputId": "60d9de30-fca3-4cf8-a671-846bfbbebe4a"
   },
   "outputs": [
    {
     "data": {
      "text/plain": [
       "(tensor([[74, 90, 76, 19, 63, 40, 86, 74],\n",
       "         [63, 74, 26, 83, 90, 74, 76, 90],\n",
       "         [26, 76, 74, 38, 43, 76, 90, 90],\n",
       "         [63, 49, 69, 69, 74, 90, 53, 21],\n",
       "         [63, 74, 26, 83, 90, 74, 76, 69],\n",
       "         [74, 61, 40, 86, 74, 43, 76, 38],\n",
       "         [83, 86, 76,  0, 24, 73, 73, 24],\n",
       "         [63, 40, 74, 65, 26, 83, 19, 26],\n",
       "         [83, 61,  0, 74, 57,  1, 76, 76],\n",
       "         [11, 38, 61, 40, 51, 18, 74,  7],\n",
       "         [74, 35, 26, 76, 74, 11, 63, 43],\n",
       "         [ 6, 61, 40, 86, 76, 43, 74, 65],\n",
       "         [74, 48, 53, 35, 74, 63, 40, 76],\n",
       "         [83, 22, 76, 74, 35, 26, 76, 74],\n",
       "         [83, 19, 63, 11, 35, 76, 36, 74],\n",
       "         [19, 76, 43, 36, 74, 69, 63, 63],\n",
       "         [74, 37, 26, 76, 74, 90, 61, 11],\n",
       "         [83, 50, 83, 40,  0, 73, 73, 73],\n",
       "         [53, 90, 76, 86, 74, 53, 38, 74],\n",
       "         [69, 83, 61,  5, 69, 76, 73, 90],\n",
       "         [76, 83, 22, 76, 86, 74,  5, 51],\n",
       "         [40, 50, 74, 11, 63, 43, 76, 74],\n",
       "         [76, 43, 36, 74,  5, 53, 35, 74],\n",
       "         [76, 43, 36, 74, 90, 63, 74, 35],\n",
       "         [ 5, 76, 74, 61, 22, 63, 83, 86],\n",
       "         [61, 40, 86, 74, 68, 76, 21, 21],\n",
       "         [63, 21, 74,  5, 43, 76, 61, 86],\n",
       "         [43, 76, 21, 63, 43, 11, 74, 65],\n",
       "         [74, 26, 61, 86, 74,  5, 53, 35],\n",
       "         [76, 74,  5, 76, 69, 63, 40, 50],\n",
       "         [19, 63, 40, 35, 43, 61, 19, 35],\n",
       "         [74, 35, 26, 76, 73, 38, 76, 43]]),\n",
       " tensor([[90, 76, 19, 63, 40, 86, 74, 26],\n",
       "         [74, 26, 83, 90, 74, 76, 90, 35],\n",
       "         [76, 74, 38, 43, 76, 90, 90, 74],\n",
       "         [49, 69, 69, 74, 90, 53, 21, 21],\n",
       "         [74, 26, 83, 90, 74, 76, 69, 86],\n",
       "         [61, 40, 86, 74, 43, 76, 38, 43],\n",
       "         [86, 76,  0, 24, 73, 73, 24, 37],\n",
       "         [40, 74, 65, 26, 83, 19, 26, 74],\n",
       "         [61,  0, 74, 57,  1, 76, 76, 57],\n",
       "         [38, 61, 40, 51, 18, 74,  7, 21],\n",
       "         [35, 26, 76, 74, 11, 63, 43, 76],\n",
       "         [61, 40, 86, 76, 43, 74, 65, 83],\n",
       "         [48, 53, 35, 74, 63, 40, 76, 74],\n",
       "         [22, 76, 74, 35, 26, 76, 74, 38],\n",
       "         [19, 63, 11, 35, 76, 36, 74, 26],\n",
       "         [76, 43, 36, 74, 69, 63, 63, 60],\n",
       "         [37, 26, 76, 74, 90, 61, 11, 76],\n",
       "         [50, 83, 40,  0, 73, 73, 73, 73],\n",
       "         [90, 76, 86, 74, 53, 38, 74, 83],\n",
       "         [83, 61,  5, 69, 76, 73, 90, 63],\n",
       "         [83, 22, 76, 86, 74,  5, 51, 74],\n",
       "         [50, 74, 11, 63, 43, 76, 74, 65],\n",
       "         [43, 36, 74,  5, 53, 35, 74, 82],\n",
       "         [43, 36, 74, 90, 63, 74, 35, 26],\n",
       "         [76, 74, 61, 22, 63, 83, 86, 76],\n",
       "         [40, 86, 74, 68, 76, 21, 21, 76],\n",
       "         [21, 74,  5, 43, 76, 61, 86, 74],\n",
       "         [76, 21, 63, 43, 11, 74, 65, 61],\n",
       "         [26, 61, 86, 74,  5, 53, 35, 74],\n",
       "         [74,  5, 76, 69, 63, 40, 50, 76],\n",
       "         [63, 40, 35, 43, 61, 19, 35, 83],\n",
       "         [35, 26, 76, 73, 38, 76, 43, 83]]))"
      ]
     },
     "execution_count": 104,
     "metadata": {},
     "output_type": "execute_result"
    }
   ],
   "source": [
    "get_batch(train_data)"
   ]
  },
  {
   "cell_type": "markdown",
   "metadata": {
    "id": "CPL-L75vLaL8"
   },
   "source": [
    "</br></br>\n",
    "\n",
    "### Create Model Architecture\n",
    "---"
   ]
  },
  {
   "cell_type": "markdown",
   "metadata": {
    "id": "YaRZORYHZ1rc"
   },
   "source": [
    "`Transformer`\n",
    "- **Embedding Layer**: converts token sequences to embeddings of length 32, embedding layer uses vocab size of the length of unique characters\n",
    "\n",
    "</br>\n",
    "\n",
    "- **Postitional Embedding Layer**: So batches are comprised of 8 tokens based on context length, to avoid, \"the cat on the thing the\", all the \"the\"s, we want each \"the\" to be slightly different since on different position, so each token embedding is added by a new trainable embedding layer corresponding to position. So its 8 \"vocab\" size and 32 dim length to add each 8, and just pass in [0, 1, 2, 3, 4, 5, 6, 7] as indexes to it to give the embedding.\n",
    "\n",
    "</br>\n",
    "\n",
    "- **Transformer Blocks**: Actual transformer blocks are sequential, so output of one block goes into next, and so on. Stacking enables a more powerful model to capture more complex dependencies.\n",
    "\n",
    "</br>\n",
    "\n",
    "- **Linear and Softmax**: Output of all sequence of transformer blocks is just the same B x T x C input, so now for each token in the batch, we want a probability distribution of the next token after the current one. So convert this B x T x C into a B x T x Vocab Size probability distribution"
   ]
  },
  {
   "cell_type": "markdown",
   "metadata": {
    "id": "N2XuEMYTbTQf"
   },
   "source": [
    "`Block`\n",
    "- **Self-Attention Layer**: Passes in a B x T x Emb_dim input and the output of self attention is a reweighted output of the same input shape but contains information about which tokens influence the presence of other tokens.\n",
    "\n",
    "</br>\n",
    "\n",
    "- **Norm Layer**: The skip connection present is to offer a similar advantage like resnets, where there is a shorter path to from the start to the end of the model to allow a shorter gradient flow and eliminate the issue of multiple layers of randomness affecting the quality of the output and training speed. LayerNorm is used after the skip layer to normalize those outputs, and does so across the embedding dimension. Better than batchnorm since batchnorm requires fixed length inputs, but transformers should work on variable length.\n",
    "\n",
    "</br>\n",
    "\n",
    "- **FFNN**: Feed Forward Neural Net part is to add a layer of nonlinearity in the model, since attention is just a linear operation (dot products). Captures more intricate patterns. Also kind of like feature enhancement after recieveing the output of attention.\n",
    "\n"
   ]
  },
  {
   "cell_type": "markdown",
   "metadata": {
    "id": "uJkGoc9oVfWk"
   },
   "source": [
    "`Self Attention`\n",
    "- **Multi headed attention**: Self attention uses multiple heads of attention where each head picks up on different features and patterns. Ultimately, all the outputs of attention are concatenated together as the output.\n",
    "\n",
    "</br>\n",
    "\n",
    "- **Norm Layer**: The skip connection present is to offer a similar advantage like resnets, where there is a shorter path to from the start to the end of the model to allow a shorter gradient flow and eliminate the issue of multiple layers of randomness affecting the quality of the output and training speed. LayerNorm is used after the skip layer to normalize those outputs, and does so across the embedding dimension. Better than batchnorm since batchnorm requires fixed length inputs, but transformers should work on variable length.\n",
    "\n",
    "</br>\n",
    "\n",
    "- **FFNN**: Feed Forward Neural Net part is to add a layer of nonlinearity in the model, since attention is just a linear operation (dot products). Captures more intricate patterns. Also kind of like feature enhancement after recieveing the output of attention.\n",
    "\n"
   ]
  },
  {
   "cell_type": "markdown",
   "metadata": {
    "id": "LCqGProhkWu9"
   },
   "source": [
    "`Attention`\n",
    "\n",
    "Example being used is a bunch of recruiters who are not only looking for people for their job, but they themselves hate their jobs and want to switch, so they are looking for a job and finding people a job simultaneously.\n",
    "\n",
    "</br>\n",
    "\n",
    "- **Queries**: What is being looked for. Like a recruiter trying to find an employee for a job, giving a bunch of descriptions hoping to find the best match. Training this query matrix is like the recruiter iteratively developing the job description to attract the best possible candidates.\n",
    "\n",
    "</br>\n",
    "\n",
    "- **Keys**: Information currently possesed. Like skills and experience and information relavent to the recruiter for finding a job. Training the keys matrix is like continuously updating a resume or refining skills to make themselves more employable.\n",
    "\n",
    "</br>\n",
    "\n",
    "- **Values**: Opinions the recruiter has. When a query highly aligns with a key, meaning that a recruiter strongly fits another recruiter's need, the recruiter in search of the job is highly likely to listen and pay attention to the opinions and advice of the recruiter who is hiring for the job. Training values matrix is like generating opinions and advice and saying things that would benefit the job seeking recruiter more.\n",
    "\n",
    "</br>\n",
    "\n",
    "1. Queries, keys, and values matrix is derived from taking dot product of initial Q, K, and V matrices with the B x T x C input. So would result in B x T x new_head_emb size. So for instance, this new queries matrix would represent what each token is looking for, and contains 'new_head_emb' length of values encoding the information of what the token is looking for. Same for keys and values.\n",
    "2. $QK^T$ ends up being a matrix comparing each job-seeking recruiter to each employee-seeking recruiter, and is a matrix of how closely they align with each other. For instance, a value at index (2, 4) represents how much of a match recruiter 2 is for employee seeking recruiter 4. This should be triangular since in the context of tokens, we don't want future tokens to look backwards in the sequence, we want tokens to look forwards and see which other tokens they closely align with. So portion of matrix is masked and set to 0.\n",
    "3. The output of that is scaled and softmaxed. This turns this matrix into a matrix of weights where each row sums to 1. The row index in the matrix corresponds to the job seeking recruiter and each value in the row corresponds to how much the job seeking recruiter will listen to what the recruiting recruiter has to say.\n",
    "4. Final dot product of this set of weights and the values corresponds to the aggregate of how much information was taken away by the job seeking recruiter after listening to each recruiting recruiter. So lets take a row of the weights matrix, like [0.2, 0.3, 0.15, 0.35], and this is dotted with each column of the values matrix (what each recruiter has to say for their first piece of advice, or the first value in each token's embedding). So dot product is how much the recruiter took away after listening to each other recruiter's first value piece of information. Then do for second, third, etc, and that corresponds to full dot product. Better understood when writing out the two matrices.\n",
    "\n",
    "</br>\n",
    "\n",
    "Now this whole thing of stuff is done multiple times (multiple heads), and the outputs of these heads are concatenated with each other. Our example gets kinda scuffed here, but imagine every recruiter, along with being a recruiter, is highly specialized in other fields as well. So each recruiter is not only searching for employees for various fields, but is also looking for jobs in various areas. Each head of attention corresponds to the field or area the recruiters are either searching for employees or looking for a position in.\n",
    "\n",
    "</br>\n",
    "\n",
    "Ultimately, we can think of the input to the attention as just a representation of a particular recruiter, they have all information associated with them, and using that information, we can derive who they want, what they have, and what their opinons are. Now after they go through this whole attention thing, the output is essentially a new representation of themselves after conversing with other recruiters and being exposed to the external world. Almost like the recruiter becomes a changed man after having a conversation with each of the other recruiters. Each recruiter can now make a more informed decision in their job search and recruitment using this information."
   ]
  },
  {
   "cell_type": "code",
   "execution_count": 105,
   "metadata": {
    "id": "YUCH5_FINLUj"
   },
   "outputs": [],
   "source": [
    "class FFNN(nn.Module):\n",
    "  def __init__(self, emb_dim):\n",
    "    super().__init__()\n",
    "    self.l1 = nn.Linear(emb_dim, emb_dim * 4)\n",
    "    self.l2 = nn.Linear(emb_dim * 4, emb_dim)\n",
    "    self.dropout = nn.Dropout(0.2)\n",
    "\n",
    "  def forward(self, x):\n",
    "    out1 = F.relu(self.l1(x))\n",
    "    out2 = F.relu(self.l2(out1))\n",
    "    out3 = self.dropout(out2)\n",
    "\n",
    "    return out3\n",
    "\n",
    "\n",
    "class AttentionHead(nn.Module):\n",
    "  def __init__(self, head_len):\n",
    "    super().__init__()\n",
    "    self.head_len = head_len\n",
    "    self.q = nn.Linear(EMBEDDING_DIM, head_len)\n",
    "    self.k = nn.Linear(EMBEDDING_DIM, head_len)\n",
    "    self.v = nn.Linear(EMBEDDING_DIM, head_len)\n",
    "\n",
    "  def forward(self, x):\n",
    "    queries = self.q(x)\n",
    "    keys    = self.k(x)\n",
    "    values  = self.v(x)\n",
    "\n",
    "    qkt   = queries @ torch.transpose(keys, dim0=1, dim1=2)\n",
    "    qkt  /= torch.sqrt(torch.tensor(self.head_len))\n",
    "\n",
    "    qkt = torch.tril(qkt)\n",
    "    qkt[qkt == 0] = float(\"-inf\")\n",
    "\n",
    "    probs = F.softmax(qkt, dim=-1)\n",
    "\n",
    "    out2 = probs @ values\n",
    "    return out2\n",
    "\n",
    "\n",
    "class SelfAttention(nn.Module):\n",
    "  def __init__(self):\n",
    "    super().__init__()\n",
    "    head_len = EMBEDDING_DIM // ATTENTION_HEADS\n",
    "    self.att = nn.ModuleList([\n",
    "        AttentionHead(head_len) for i in range(ATTENTION_HEADS)\n",
    "    ])\n",
    "    self.proj = nn.Linear(EMBEDDING_DIM, EMBEDDING_DIM)\n",
    "\n",
    "  def forward(self, x):\n",
    "    out1 = torch.cat([att(x) for att in self.att], dim=-1)\n",
    "    return self.proj(out1)\n",
    "\n",
    "\n",
    "class Block(nn.Module):\n",
    "  def __init__(self):\n",
    "    super().__init__()\n",
    "    self.att = SelfAttention()\n",
    "    self.layer_norm_1 = nn.LayerNorm(EMBEDDING_DIM)\n",
    "    self.layer_norm_2 = nn.LayerNorm(EMBEDDING_DIM)\n",
    "    self.ffnn = FFNN(EMBEDDING_DIM)\n",
    "\n",
    "  def forward(self, x):\n",
    "    x = x + self.att(self.layer_norm_1(x))\n",
    "    x = x + self.ffnn(self.layer_norm_2(x))\n",
    "\n",
    "    return x\n",
    "\n",
    "\n",
    "class Transformer(nn.Module):\n",
    "  def __init__(self):\n",
    "    super().__init__()\n",
    "    self.emb     = nn.Embedding(VOCAB_SIZE,     EMBEDDING_DIM)\n",
    "    self.pos_emb = nn.Embedding(CONTEXT_LENGTH, EMBEDDING_DIM)\n",
    "\n",
    "    self.transformer_blocks = nn.Sequential(\n",
    "        *[Block() for _ in range(TRANSFORMER_BLOCKS)]\n",
    "    )\n",
    "\n",
    "    self.lin = nn.Linear(EMBEDDING_DIM, VOCAB_SIZE)\n",
    "\n",
    "  def forward(self, x):\n",
    "    emb = self.emb(x) + self.pos_emb(torch.arange(0, x.shape[1]).to(DEVICE))\n",
    "    transformer_out = self.transformer_blocks(emb)\n",
    "    logits = self.lin(transformer_out)\n",
    "\n",
    "    return logits"
   ]
  },
  {
   "cell_type": "code",
   "execution_count": 106,
   "metadata": {
    "id": "I_yOI7d_OMXt"
   },
   "outputs": [],
   "source": [
    "transformer = Transformer()\n",
    "transformer = transformer.to(DEVICE)\n",
    "optim = torch.optim.AdamW(transformer.parameters(), 1e-3)"
   ]
  },
  {
   "cell_type": "markdown",
   "metadata": {
    "id": "s2n460MhwZOz"
   },
   "source": [
    "</br></br>\n",
    "\n",
    "### Train and Evaluate\n",
    "---"
   ]
  },
  {
   "cell_type": "code",
   "execution_count": 107,
   "metadata": {
    "id": "FCd9dv4b03nq"
   },
   "outputs": [],
   "source": [
    "def calc_loss(model, optim):\n",
    "  X_train, y_train = get_batch(train_data)\n",
    "  X_test, y_test   = get_batch(test_data)\n",
    "\n",
    "  X_train = X_train.to(DEVICE)\n",
    "  y_train = y_train.to(DEVICE)\n",
    "  X_test  = X_test.to(DEVICE)\n",
    "  y_test  = y_test.to(DEVICE)\n",
    "\n",
    "  output_train  = model(X_train)\n",
    "  output_test   = model(X_test)\n",
    "  B, T, C = output_train.shape\n",
    "\n",
    "  train_loss = F.cross_entropy(output_train.reshape((B * T, C)),\n",
    "                                         y_train.reshape(B * T))\n",
    "\n",
    "  with torch.no_grad():\n",
    "    test_loss  = F.cross_entropy(output_test.reshape((B * T, C)),\n",
    "                                          y_test.reshape(B * T))\n",
    "\n",
    "  return (train_loss, test_loss)"
   ]
  },
  {
   "cell_type": "code",
   "execution_count": 108,
   "metadata": {
    "colab": {
     "base_uri": "https://localhost:8080/"
    },
    "id": "vbbffNeb0Zzg",
    "outputId": "c6b4ee41-1232-4fdb-a67a-53d9b3879fc0"
   },
   "outputs": [
    {
     "name": "stdout",
     "output_type": "stream",
     "text": [
      "ITERATIONS: 200  |  TRAIN LOSS: 2.7846  |  TEST LOSS: 2.7954\n",
      "ITERATIONS: 400  |  TRAIN LOSS: 2.6868  |  TEST LOSS: 2.7290\n",
      "ITERATIONS: 600  |  TRAIN LOSS: 2.4363  |  TEST LOSS: 2.6145\n",
      "ITERATIONS: 800  |  TRAIN LOSS: 2.3615  |  TEST LOSS: 2.4921\n",
      "ITERATIONS: 1000  |  TRAIN LOSS: 2.4131  |  TEST LOSS: 2.3847\n",
      "ITERATIONS: 1200  |  TRAIN LOSS: 2.4062  |  TEST LOSS: 2.4065\n",
      "ITERATIONS: 1400  |  TRAIN LOSS: 2.4259  |  TEST LOSS: 2.4865\n",
      "ITERATIONS: 1600  |  TRAIN LOSS: 2.3406  |  TEST LOSS: 2.2405\n",
      "ITERATIONS: 1800  |  TRAIN LOSS: 2.3082  |  TEST LOSS: 2.3331\n"
     ]
    }
   ],
   "source": [
    "train_lossi = []\n",
    "test_lossi = []\n",
    "for iter in range(MAX_ITERS):\n",
    "  if iter % 200 == 0 and iter > 0:\n",
    "    print(f\"ITERATIONS: {iter}  |  TRAIN LOSS: {train_loss:.4f}  |  TEST LOSS: {test_loss:.4f}\")\n",
    "\n",
    "  train_loss, test_loss = calc_loss(transformer, optim)\n",
    "\n",
    "  optim.zero_grad()\n",
    "  train_loss.backward()\n",
    "  optim.step()\n",
    "\n",
    "  train_lossi.append(train_loss)\n",
    "  test_lossi.append(test_loss)"
   ]
  },
  {
   "cell_type": "code",
   "execution_count": 109,
   "metadata": {
    "id": "qvmcFnC35A1v"
   },
   "outputs": [],
   "source": [
    "train_lossi = [i.item() for i in train_lossi]\n",
    "test_lossi =  [i.item() for i in test_lossi]"
   ]
  },
  {
   "cell_type": "code",
   "execution_count": 110,
   "metadata": {
    "colab": {
     "base_uri": "https://localhost:8080/",
     "height": 468
    },
    "id": "pg5ToMQX4tvF",
    "outputId": "72c596a8-c040-430b-ef0d-0922f85226e3"
   },
   "outputs": [
    {
     "data": {
      "image/png": "[encoded data removed]",
      "text/plain": [
       "<Figure size 800x500 with 2 Axes>"
      ]
     },
     "metadata": {},
     "output_type": "display_data"
    }
   ],
   "source": [
    "plt.figure(figsize=(8, 5))\n",
    "plt.subplot(1, 2, 1)\n",
    "plt.title(\"Train Loss\")\n",
    "plt.plot(train_lossi)\n",
    "plt.subplot(1, 2, 2)\n",
    "plt.title(\"Test Loss\")\n",
    "plt.plot(test_lossi);"
   ]
  },
  {
   "cell_type": "markdown",
   "metadata": {
    "id": "TPwEJyGmwn9s"
   },
   "source": [
    "</br></br>\n",
    "\n",
    "### Generate New Text\n",
    "---"
   ]
  },
  {
   "cell_type": "code",
   "execution_count": 111,
   "metadata": {
    "id": "usNNvjvfWvPo"
   },
   "outputs": [],
   "source": [
    "x = torch.ones((1, 1), dtype=torch.long).to(DEVICE)"
   ]
  },
  {
   "cell_type": "code",
   "execution_count": 114,
   "metadata": {
    "id": "VPDr5LfidV5U"
   },
   "outputs": [],
   "source": [
    "max_new = 1000\n",
    "\n",
    "for _ in range(max_new):\n",
    "  output = transformer(x[:, -CONTEXT_LENGTH:])\n",
    "  logits = output[:, -1, :]\n",
    "  probs = F.softmax(logits, dim=-1)\n",
    "  x_next = torch.multinomial(probs, num_samples=1)\n",
    "  x = torch.cat((x, x_next), dim=1)"
   ]
  },
  {
   "cell_type": "code",
   "execution_count": 115,
   "metadata": {
    "colab": {
     "base_uri": "https://localhost:8080/"
    },
    "id": "yy_9Sk_jfHLI",
    "outputId": "72b24879-7bcd-402e-fb3f-676470bbe88f"
   },
   "outputs": [
    {
     "name": "stdout",
     "output_type": "stream",
     "text": [
      "Sainceveremm ofov and wartionn he sassie, per the of\n",
      "saldtionglly as, rof to sowspemm-sarsysaging var As\n",
      "the intes!. 3; Mod thev gludl\n",
      "pinced\n",
      "rewacten] diterllued ot ofrmasmand fridjuwenblelle por, ass\n",
      "Ey ap ofsgese supeald thok. T6CPuat. Hoagaris dis theirly lamper, arvev perechicure chadmelas. Afwilf lifnald soued grooftavilechod dimars it thas the bud llrot movses smoind hears cray, in echund carm.\" The the cos.\"\n",
      " Nhey is the Sourly with her blulged cand conowse of exintes, wShes, of be gollinteeg Canciry ars thes werely the, merondadem of Saly\n",
      "hesal at!\" Le\" sunpiner RuqFre usI8'; ra dyebvesish sor, Pidmper\n",
      "and thed sreand the here wsinners nowcland mengromer. ef yor wheans as in rog ald\n",
      "ish tmardac tNaly blleand, vent oos tand, schesed-ras on bane my at to the infonire the of cong, of Levy.\"\n",
      "\"Wooninker.\n",
      "\"O.='--6NA, richkys lous, and vichorkoing\n",
      "pilly\n",
      "to rtomes. Acdsy ome surmiving onet dond and the facluet or illes muther you, tarkily has-beankacty eculve cay ryidenred Prlas, nowtihntat Tucting magh\n",
      "asilar cred, Arolle\n",
      "datl bianvemecet chites. yor oF aby suttiftover stor betheredint. I G8, whid, as Anostinall acsmias mall agterned hecklle omple, ivesp-porsemred the varosm\n",
      "pley shour youe. Theis of trosorss, hutare afd.\"\n",
      "\n",
      "\n",
      "\"Whis Nhdeany hour Seas ay\n",
      "of hos, qucukillan the seae clles alnkerate 18-R57\n",
      ". The ('ritiognals erlovernsidgrems, sond and aftse whe cop them gankeny.\n",
      "\"I--\"IBO268--B177\n",
      "satites as clomactices. Koup nis the tall, hati suning hace it they the worch. Cors as pineill mucting, pratown by turane bevaperes and moseingirgzaing dipencucory mpcelinthec maboone Sor mo, of tlonell the? Nperiogai-sirte of Xthot who pirtre\n",
      "\"hore in entel\n",
      "ditelse a belorascilaceetis. Cof aby meiplong.)\n",
      "\"Rute -LaAmtion collad priferse came of the urfe sar. Ighen\n",
      "toll toy\n",
      "eis obe kandll\n",
      "inin comised yoy.\"\n",
      "\n",
      "Fre, stion mestice, awion is thes, a gring ainged orimph there meec menss forlicosons das gis mich pring bece to bopme Wher all taod Mldid antintidy mome is gount curmety So\n"
     ]
    }
   ],
   "source": [
    "print(''.join(decode(x[0].detach().numpy())))"
   ]
  },
  {
   "cell_type": "markdown",
   "metadata": {},
   "source": [
    "</br></br>\n",
    "\n",
    "Credits: \n",
    "- https://www.youtube.com/watch?v=kCc8FmEb1nY"
   ]
  }
 ],
 "metadata": {
  "accelerator": "GPU",
  "colab": {
   "gpuType": "T4",
   "provenance": []
  },
  "kernelspec": {
   "display_name": "Python 3",
   "name": "python3"
  },
  "language_info": {
   "name": "python",
   "version": "3.10.7"
  }
 },
 "nbformat": 4,
 "nbformat_minor": 0
}
