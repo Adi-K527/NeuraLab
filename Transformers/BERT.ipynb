{
  "cells": [
    {
      "cell_type": "markdown",
      "metadata": {
        "id": "XNstGURpRDdH"
      },
      "source": [
        "# Encoder-Only Transformer\n"
      ]
    },
    {
      "cell_type": "markdown",
      "metadata": {
        "id": "_JqHnAwnRHfH"
      },
      "source": [
        "</br></br>\n",
        "\n",
        "### Import Data and Libraries\n",
        "---"
      ]
    },
    {
      "cell_type": "code",
      "execution_count": null,
      "metadata": {
        "colab": {
          "base_uri": "https://localhost:8080/"
        },
        "id": "oKt-1vgIYvhG",
        "outputId": "e2591712-7d5f-45e6-8ab9-5140efedeb32"
      },
      "outputs": [
        {
          "name": "stdout",
          "output_type": "stream",
          "text": [
            "Collecting word-piece-tokenizer\n",
            "  Downloading word_piece_tokenizer-1.0.1-py3-none-any.whl.metadata (4.1 kB)\n",
            "Downloading word_piece_tokenizer-1.0.1-py3-none-any.whl (119 kB)\n",
            "\u001b[?25l   \u001b[90m━━━━━━━━━━━━━━━━━━━━━━━━━━━━━━━━━━━━━━━━\u001b[0m \u001b[32m0.0/119.9 kB\u001b[0m \u001b[31m?\u001b[0m eta \u001b[36m-:--:--\u001b[0m\r\u001b[2K   \u001b[90m━━━━━━━━━━━━━━━━━━━━━━━━━━━━━━━━━━━━━━━━\u001b[0m \u001b[32m119.9/119.9 kB\u001b[0m \u001b[31m4.0 MB/s\u001b[0m eta \u001b[36m0:00:00\u001b[0m\n",
            "\u001b[?25hInstalling collected packages: word-piece-tokenizer\n",
            "Successfully installed word-piece-tokenizer-1.0.1\n",
            "Collecting wikipedia\n",
            "  Downloading wikipedia-1.4.0.tar.gz (27 kB)\n",
            "  Preparing metadata (setup.py) ... \u001b[?25l\u001b[?25hdone\n",
            "Requirement already satisfied: beautifulsoup4 in /usr/local/lib/python3.10/dist-packages (from wikipedia) (4.12.3)\n",
            "Requirement already satisfied: requests<3.0.0,>=2.0.0 in /usr/local/lib/python3.10/dist-packages (from wikipedia) (2.32.3)\n",
            "Requirement already satisfied: charset-normalizer<4,>=2 in /usr/local/lib/python3.10/dist-packages (from requests<3.0.0,>=2.0.0->wikipedia) (3.4.0)\n",
            "Requirement already satisfied: idna<4,>=2.5 in /usr/local/lib/python3.10/dist-packages (from requests<3.0.0,>=2.0.0->wikipedia) (3.10)\n",
            "Requirement already satisfied: urllib3<3,>=1.21.1 in /usr/local/lib/python3.10/dist-packages (from requests<3.0.0,>=2.0.0->wikipedia) (2.2.3)\n",
            "Requirement already satisfied: certifi>=2017.4.17 in /usr/local/lib/python3.10/dist-packages (from requests<3.0.0,>=2.0.0->wikipedia) (2024.8.30)\n",
            "Requirement already satisfied: soupsieve>1.2 in /usr/local/lib/python3.10/dist-packages (from beautifulsoup4->wikipedia) (2.6)\n",
            "Building wheels for collected packages: wikipedia\n",
            "  Building wheel for wikipedia (setup.py) ... \u001b[?25l\u001b[?25hdone\n",
            "  Created wheel for wikipedia: filename=wikipedia-1.4.0-py3-none-any.whl size=11679 sha256=47f1916857fbddfd19af38184a81588d70e4ec5e6e14dd088285b6d71c0ecd67\n",
            "  Stored in directory: /root/.cache/pip/wheels/5e/b6/c5/93f3dec388ae76edc830cb42901bb0232504dfc0df02fc50de\n",
            "Successfully built wikipedia\n",
            "Installing collected packages: wikipedia\n",
            "Successfully installed wikipedia-1.4.0\n"
          ]
        }
      ],
      "source": [
        "!pip install word-piece-tokenizer\n",
        "!pip install wikipedia"
      ]
    },
    {
      "cell_type": "code",
      "execution_count": null,
      "metadata": {
        "id": "oE4NecnatTn7"
      },
      "outputs": [],
      "source": [
        "import torch\n",
        "import torch.nn as nn\n",
        "import torch.nn.functional as F\n",
        "from torch.utils.data import Dataset, DataLoader\n",
        "import pandas as pd\n",
        "import numpy as np\n",
        "import matplotlib.pyplot as plt\n",
        "import seaborn as sns\n",
        "from word_piece_tokenizer import WordPieceTokenizer\n",
        "from collections import Counter, defaultdict\n",
        "import re\n",
        "import wikipedia"
      ]
    },
    {
      "cell_type": "code",
      "execution_count": null,
      "metadata": {
        "colab": {
          "base_uri": "https://localhost:8080/"
        },
        "id": "F1zYWUFvO9J6",
        "outputId": "38ee2e7d-a56a-47de-ce54-8022c35e0a45"
      },
      "outputs": [
        {
          "name": "stderr",
          "output_type": "stream",
          "text": [
            "/usr/local/lib/python3.10/dist-packages/wikipedia/wikipedia.py:389: GuessedAtParserWarning: No parser was explicitly specified, so I'm using the best available HTML parser for this system (\"lxml\"). This usually isn't a problem, but if you run this code on another system, or in a different virtual environment, it may use a different parser and behave differently.\n",
            "\n",
            "The code that caused this warning is on line 389 of the file /usr/local/lib/python3.10/dist-packages/wikipedia/wikipedia.py. To get rid of this warning, pass the additional argument 'features=\"lxml\"' to the BeautifulSoup constructor.\n",
            "\n",
            "  lis = BeautifulSoup(html).find_all('li')\n"
          ]
        }
      ],
      "source": [
        "def extract_wikipedia_text(page_title):\n",
        "    try:\n",
        "        page = wikipedia.page(page_title)\n",
        "        return page.content\n",
        "    except wikipedia.exceptions.PageError:\n",
        "        print(f\"Page not found: {article}\")\n",
        "        return \"\"\n",
        "    except wikipedia.exceptions.DisambiguationError as e:\n",
        "        return f\"Disambiguation page: {e}\"\n",
        "\n",
        "text = \"\"\n",
        "articles = [\"Apollo 12\", \"NASA\", \"Heliophysics\",\n",
        "            \"Nuclear fusion\", \"Greenwich Mean Time\", \"United Kingdom\",\n",
        "            \"English people\", \"Air raids on Japan\", \"Maya civilization\",\n",
        "            \"Manhattan Project\", \"Elvis Presley\", \"Country music\",\n",
        "            \"Trumpet\", \"Byzantine navy\", \"India\",\n",
        "            \"Climate_change\", \"Dinosaur\"]\n",
        "\n",
        "for article in articles:\n",
        "  text += extract_wikipedia_text(article)"
      ]
    },
    {
      "cell_type": "code",
      "execution_count": null,
      "metadata": {
        "colab": {
          "base_uri": "https://localhost:8080/"
        },
        "id": "m42Va2qJloiH",
        "outputId": "3ac9f162-f175-4ab8-b837-27dbe4a1f68d"
      },
      "outputs": [
        {
          "name": "stdout",
          "output_type": "stream",
          "text": [
            "lo 10 had been postponed a day so ALS-2 could be photographed under proper conditions. ALS-2 was chosen as the lunar landing site since it was relatively smooth, of scientific interest, and ALS-1 was deemed too far to the east. Thus, when Apollo 10's launch date was announced on January 10, 1969, it was shifted from its placeholder date of May 1 to May 17, rather than to May 16. On March 17, 1969, the launch was slipped one day to May 18, to allow for a better view of ALS-3, to the west of ALS-2. Another deviation from the plans for Apollo 11 was that Apollo 10 was to spend an additional day in lunar orbit once the CSM and LM rendezvoused; this was to allow time for additional testing of the LM's systems, as well as for photography of possible future Apollo landing sites.\n",
            "The Apollo 10 astronauts undertook five hours of formal training for each hour of the mission's eight-day duration. This was in addition to the normal mission preparations such as technical briefings, pilot meetings a\n"
          ]
        }
      ],
      "source": [
        "text_len = len(text)\n",
        "train_text = text[:int(0.75 * text_len)]\n",
        "test_text  = text[int(0.75 * text_len):]\n",
        "\n",
        "print(train_text[11000:12000])"
      ]
    },
    {
      "cell_type": "code",
      "execution_count": null,
      "metadata": {
        "id": "O0EnKJfg_fOG"
      },
      "outputs": [],
      "source": [
        "BATCH_SIZE    = 32\n",
        "EPOCHS        = 50\n",
        "EMB_DIM       = 64\n",
        "SEQ_LEN       = 20\n",
        "IGNORE_LEN    = 20\n",
        "NUM_HEADS     = 8\n",
        "NUM_BLOCKS    = 4\n",
        "LEARNING_RATE = 3e-4\n",
        "DEVICE        = 'cuda' if torch.cuda.is_available() else 'cpu'"
      ]
    },
    {
      "cell_type": "markdown",
      "metadata": {
        "id": "ypzaemS3SE2M"
      },
      "source": [
        "</br></br>\n",
        "\n",
        "### Preprocess Text + EDA\n",
        "---"
      ]
    },
    {
      "cell_type": "code",
      "execution_count": null,
      "metadata": {
        "id": "pdpuDNeKzDlJ"
      },
      "outputs": [],
      "source": [
        "tokenizer = WordPieceTokenizer()"
      ]
    },
    {
      "cell_type": "code",
      "execution_count": null,
      "metadata": {
        "colab": {
          "base_uri": "https://localhost:8080/"
        },
        "id": "q2oBz-Z8lF7V",
        "outputId": "cde8e293-4271-467c-9c43-77712a10db80"
      },
      "outputs": [
        {
          "name": "stdout",
          "output_type": "stream",
          "text": [
            "103\n"
          ]
        }
      ],
      "source": [
        "for i in range(500):\n",
        "  if tokenizer.convert_ids_to_tokens([i])[0] == \"[MASK]\":\n",
        "    print(i)"
      ]
    },
    {
      "cell_type": "code",
      "execution_count": null,
      "metadata": {
        "id": "uy-a3c2QTnZf"
      },
      "outputs": [],
      "source": [
        "def tokenize_text(text):\n",
        "  sentences = re.split(r'[.!?]', text)\n",
        "  tokenizer = WordPieceTokenizer()\n",
        "  ids       = [tokenizer.tokenize(i) for i in sentences \\\n",
        "                      if len(tokenizer.tokenize(i)) > 2]\n",
        "  return ids"
      ]
    },
    {
      "cell_type": "code",
      "execution_count": null,
      "metadata": {
        "id": "Zaa_qncZTt7D"
      },
      "outputs": [],
      "source": [
        "tokens = tokenize_text(text)"
      ]
    },
    {
      "cell_type": "code",
      "execution_count": null,
      "metadata": {
        "colab": {
          "base_uri": "https://localhost:8080/",
          "height": 487
        },
        "id": "lH9aSHkBTn85",
        "outputId": "e3bc0436-4049-44c4-e5c5-4ed63d15994e"
      },
      "outputs": [
        {
          "data": {
            "image/png": "[encoded data removed]",
            "text/plain": [
              "<Figure size 1500x500 with 2 Axes>"
            ]
          },
          "metadata": {},
          "output_type": "display_data"
        }
      ],
      "source": [
        "plt.figure(figsize=(15, 5))\n",
        "plt.subplot(1, 2, 1)\n",
        "sns.histplot([len(i) for i in tokens])\n",
        "plt.title(\"Token Lengths Histogram\")\n",
        "plt.xlabel(\"Length\")\n",
        "plt.grid(False)\n",
        "\n",
        "plt.subplot(1, 2, 2)\n",
        "sns.boxplot([len(i) for i in tokens])\n",
        "plt.title(\"Token Length Boxplot\")\n",
        "plt.grid(False)"
      ]
    },
    {
      "cell_type": "code",
      "execution_count": null,
      "metadata": {
        "id": "5o_d7gxyZrBx"
      },
      "outputs": [],
      "source": [
        "token_counter = Counter()\n",
        "for i in tokens:\n",
        "  token_counter.update(i)"
      ]
    },
    {
      "cell_type": "code",
      "execution_count": null,
      "metadata": {
        "colab": {
          "base_uri": "https://localhost:8080/",
          "height": 651
        },
        "id": "Ls7BbYkfZ6WR",
        "outputId": "9e0624b7-c98b-45b1-bbcc-3c2befa71839"
      },
      "outputs": [
        {
          "name": "stderr",
          "output_type": "stream",
          "text": [
            "<ipython-input-196-26121686a81f>:9: FutureWarning: \n",
            "\n",
            "Passing `palette` without assigning `hue` is deprecated and will be removed in v0.14.0. Assign the `x` variable to `hue` and set `legend=False` for the same effect.\n",
            "\n",
            "  sns.barplot(x=real_tokens, y=counts, palette='viridis')\n"
          ]
        },
        {
          "data": {
            "image/png": "[encoded data removed]",
            "text/plain": [
              "<Figure size 1200x600 with 1 Axes>"
            ]
          },
          "metadata": {},
          "output_type": "display_data"
        }
      ],
      "source": [
        "token_count_list = [[v, tokenizer.convert_ids_to_tokens([i])] for i,v in token_counter.items()]\n",
        "token_count_list.sort(reverse=True)\n",
        "\n",
        "top_tokens  = token_count_list[:25]\n",
        "real_tokens = [t[1][0] for t in top_tokens]\n",
        "counts      = [t[0] for t in top_tokens]\n",
        "\n",
        "plt.figure(figsize=(12, 6))\n",
        "sns.barplot(x=real_tokens, y=counts, palette='viridis')\n",
        "\n",
        "plt.xlabel('Tokens')\n",
        "plt.ylabel('Counts')\n",
        "plt.title('Top 10 Token Counts');"
      ]
    },
    {
      "cell_type": "code",
      "execution_count": null,
      "metadata": {
        "id": "E4Uh-R-wWd2T"
      },
      "outputs": [],
      "source": [
        "def pad_sequences(tokens, pad_len, len_to_ignore):\n",
        "  new_tokens = []\n",
        "  for i in range(len(tokens)):\n",
        "    if len(tokens[i]) > len_to_ignore:\n",
        "      new_len = pad_len - len(tokens[i])\n",
        "      if new_len >= 0:\n",
        "        new_tokens.append(tokens[i][:-1] + ([0] * (new_len)) + [tokens[i][-1]])\n",
        "      else:\n",
        "        new_tokens.append(tokens[i][:pad_len - 1] + [tokens[i][-1]])\n",
        "\n",
        "  return torch.tensor(new_tokens)"
      ]
    },
    {
      "cell_type": "code",
      "execution_count": null,
      "metadata": {
        "id": "iVJ2ndGzWmr0"
      },
      "outputs": [],
      "source": [
        "tokens_padded = pad_sequences(tokens, SEQ_LEN, IGNORE_LEN)"
      ]
    },
    {
      "cell_type": "code",
      "execution_count": null,
      "metadata": {
        "colab": {
          "base_uri": "https://localhost:8080/"
        },
        "id": "SLDe8IxFW31o",
        "outputId": "c09aef4c-a3ba-4614-87f3-d6334c2d4f78"
      },
      "outputs": [
        {
          "name": "stdout",
          "output_type": "stream",
          "text": [
            "----- Sentence 1 -----\n",
            "[  101  9348  2184  1006  2089  2324  1516  2656  1010  3440  1007  2001\n",
            "  1996  2959  2529  2686 28968  1999  1996   102]\n",
            "['[CLS]', 'apollo', '10', '(', 'may', '18', '–', '26', ',', '1969', ')', 'was', 'the', 'fourth', 'human', 'space', '##flight', 'in', 'the', '[SEP]']\n",
            "\n",
            "\n",
            "\n",
            "----- Sentence 2 -----\n",
            "[  101  9274  1010  1996  3260  1005  1055  6872  1010  2649  2009  2004\n",
            "  1037  1000  4377 17887  1000  2005  1996   102]\n",
            "['[CLS]', 'nasa', ',', 'the', 'mission', \"'\", 's', 'operator', ',', 'described', 'it', 'as', 'a', '\"', 'dress', 'rehearsal', '\"', 'for', 'the', '[SEP]']\n",
            "\n",
            "\n",
            "\n",
            "----- Sentence 3 -----\n",
            "[  101  2009  2001  4351  2019  1000  1042  1000  3260  1010  3832  2000\n",
            "  3231  2035 12076  6177  1998  8853  2460   102]\n",
            "['[CLS]', 'it', 'was', 'designated', 'an', '\"', 'f', '\"', 'mission', ',', 'intended', 'to', 'test', 'all', 'spacecraft', 'components', 'and', 'procedures', 'short', '[SEP]']\n",
            "\n",
            "\n",
            "\n"
          ]
        }
      ],
      "source": [
        "for i in range(3):\n",
        "  tokens_i = tokens_padded[i].detach().cpu().numpy()\n",
        "  print(f\"----- Sentence {i + 1} -----\")\n",
        "  print(tokens_i)\n",
        "  print(tokenizer.convert_ids_to_tokens(tokens_i))\n",
        "  print(\"\\n\\n\")"
      ]
    },
    {
      "cell_type": "code",
      "execution_count": null,
      "metadata": {
        "id": "cBkWIlxFY8AY"
      },
      "outputs": [],
      "source": [
        "def generate_sentence_pairs(sentences):\n",
        "  new_sentences = []\n",
        "  for i in range(len(sentences) - 1):\n",
        "    cur_sentence = [sentences[i]]\n",
        "    cur_sentence.append(sentences[i + 1])\n",
        "    new_sentences.append(cur_sentence)\n",
        "\n",
        "  return new_sentences"
      ]
    },
    {
      "cell_type": "code",
      "execution_count": null,
      "metadata": {
        "id": "v1fJGkYgY-HD"
      },
      "outputs": [],
      "source": [
        "tokens_paired = generate_sentence_pairs(tokens_padded)"
      ]
    },
    {
      "cell_type": "code",
      "execution_count": null,
      "metadata": {
        "colab": {
          "base_uri": "https://localhost:8080/"
        },
        "id": "asFZBcezZBes",
        "outputId": "0c451f08-7ffb-4c10-e99b-71e17d005f51"
      },
      "outputs": [
        {
          "name": "stdout",
          "output_type": "stream",
          "text": [
            "----- Sentence Pair 1 -----\n",
            "['[CLS]', 'apollo', '10', '(', 'may', '18', '–', '26', ',', '1969', ')', 'was', 'the', 'fourth', 'human', 'space', '##flight', 'in', 'the', '[SEP]']\n",
            "['[CLS]', 'nasa', ',', 'the', 'mission', \"'\", 's', 'operator', ',', 'described', 'it', 'as', 'a', '\"', 'dress', 'rehearsal', '\"', 'for', 'the', '[SEP]']\n",
            "\n",
            "\n",
            "\n",
            "----- Sentence Pair 2 -----\n",
            "['[CLS]', 'nasa', ',', 'the', 'mission', \"'\", 's', 'operator', ',', 'described', 'it', 'as', 'a', '\"', 'dress', 'rehearsal', '\"', 'for', 'the', '[SEP]']\n",
            "['[CLS]', 'it', 'was', 'designated', 'an', '\"', 'f', '\"', 'mission', ',', 'intended', 'to', 'test', 'all', 'spacecraft', 'components', 'and', 'procedures', 'short', '[SEP]']\n",
            "\n",
            "\n",
            "\n",
            "----- Sentence Pair 3 -----\n",
            "['[CLS]', 'it', 'was', 'designated', 'an', '\"', 'f', '\"', 'mission', ',', 'intended', 'to', 'test', 'all', 'spacecraft', 'components', 'and', 'procedures', 'short', '[SEP]']\n",
            "['[CLS]', 'after', 'the', 'spacecraft', 'reached', 'lunar', 'orbit', ',', 'astronaut', 'john', 'young', 'remained', 'in', 'the', 'command', 'and', 'service', 'module', '(', '[SEP]']\n",
            "\n",
            "\n",
            "\n"
          ]
        }
      ],
      "source": [
        "for i in range(3):\n",
        "  tokens_i_0 = tokens_paired[i][0].detach().cpu().numpy()\n",
        "  tokens_i_1 = tokens_paired[i][1].detach().cpu().numpy()\n",
        "  print(f\"----- Sentence Pair {i + 1} -----\")\n",
        "  print(tokenizer.convert_ids_to_tokens(tokens_i_0))\n",
        "  print(tokenizer.convert_ids_to_tokens(tokens_i_1))\n",
        "  print(\"\\n\\n\")"
      ]
    },
    {
      "cell_type": "code",
      "execution_count": null,
      "metadata": {
        "id": "wV-M389AbydQ"
      },
      "outputs": [],
      "source": [
        "def prepare_nsp(sentences):\n",
        "  sent_len  = int(len(sentences) * 0.5)\n",
        "  new_len   = sent_len - (sent_len % 2)\n",
        "\n",
        "  switch_idx = torch.randint(0, len(sentences), (new_len,))\n",
        "\n",
        "  for i in range(new_len - 1):\n",
        "    idx_1, idx_2 = switch_idx[i], switch_idx[i + 1]\n",
        "    sentences[idx_1][1], sentences[idx_2][1] = (sentences[idx_2][1],\n",
        "                                                sentences[idx_1][1])\n",
        "\n",
        "  new_sentences = []\n",
        "  for i in range(len(sentences)):\n",
        "    pair_1, pair_2 = sentences[i][0], sentences[i][1]\n",
        "    new_sentences.append(list(pair_1.detach().cpu().numpy()))\n",
        "    new_sentences[-1].extend(list(pair_2.detach().cpu().numpy()[1:]))\n",
        "\n",
        "  nsp_labels = torch.ones((len(new_sentences),))\n",
        "  nsp_labels[switch_idx] = 0\n",
        "  return new_sentences, nsp_labels"
      ]
    },
    {
      "cell_type": "code",
      "execution_count": null,
      "metadata": {
        "id": "P7IBh0MRb02f"
      },
      "outputs": [],
      "source": [
        "tokens_nsp, nsp_labels = prepare_nsp(tokens_paired)"
      ]
    },
    {
      "cell_type": "code",
      "execution_count": null,
      "metadata": {
        "colab": {
          "base_uri": "https://localhost:8080/"
        },
        "id": "m66aPRDEb7GW",
        "outputId": "17cb0116-9522-440e-d18f-ae581b9f4218"
      },
      "outputs": [
        {
          "name": "stdout",
          "output_type": "stream",
          "text": [
            "[101, 9348, 2184, 1006, 2089, 2324, 1516, 2656, 1010, 3440, 1007, 2001, 1996, 2959, 2529, 2686, 28968, 1999, 1996, 102, 9274, 1010, 1996, 3260, 1005, 1055, 6872, 1010, 2649, 2009, 2004, 1037, 1000, 4377, 17887, 1000, 2005, 1996, 102]\n"
          ]
        }
      ],
      "source": [
        "print(tokens_nsp[0])"
      ]
    },
    {
      "cell_type": "code",
      "execution_count": null,
      "metadata": {
        "colab": {
          "base_uri": "https://localhost:8080/"
        },
        "id": "cmUOpsX5b4jN",
        "outputId": "69019b4a-aed9-409b-8050-bac05e685d32"
      },
      "outputs": [
        {
          "name": "stdout",
          "output_type": "stream",
          "text": [
            "----- NSP Seqeunce 1 -----\n",
            "[101, 2009, 2001, 4351, 2019, 1000, 1042, 1000, 3260, 1010, 3832, 2000, 3231, 2035, 12076, 6177, 1998, 8853, 2460, 102, 2044, 1996, 12076, 2584, 11926, 8753, 1010, 19748, 2198, 2402, 2815, 1999, 1996, 3094, 1998, 2326, 11336, 1006, 102]\n",
            "['[CLS]', 'it', 'was', 'designated', 'an', '\"', 'f', '\"', 'mission', ',', 'intended', 'to', 'test', 'all', 'spacecraft', 'components', 'and', 'procedures', 'short', '[SEP]', 'after', 'the', 'spacecraft', 'reached', 'lunar', 'orbit', ',', 'astronaut', 'john', 'young', 'remained', 'in', 'the', 'command', 'and', 'service', 'module', '(', '[SEP]']\n",
            "NSP Label: 1.0\n",
            "\n",
            "\n",
            "\n",
            "----- NSP Seqeunce 2 -----\n",
            "[101, 2044, 1996, 12076, 2584, 11926, 8753, 1010, 19748, 2198, 2402, 2815, 1999, 1996, 3094, 1998, 2326, 11336, 1006, 102, 1022, 22484, 1007, 1997, 1996, 11926, 3302, 1010, 1996, 2391, 2012, 2029, 6113, 6934, 2005, 4899, 2052, 4088, 102]\n",
            "['[CLS]', 'after', 'the', 'spacecraft', 'reached', 'lunar', 'orbit', ',', 'astronaut', 'john', 'young', 'remained', 'in', 'the', 'command', 'and', 'service', 'module', '(', '[SEP]', '8', 'nmi', ')', 'of', 'the', 'lunar', 'surface', ',', 'the', 'point', 'at', 'which', 'powered', 'descent', 'for', 'landing', 'would', 'begin', '[SEP]']\n",
            "NSP Label: 1.0\n",
            "\n",
            "\n",
            "\n",
            "----- NSP Seqeunce 3 -----\n",
            "[101, 1022, 22484, 1007, 1997, 1996, 11926, 3302, 1010, 1996, 2391, 2012, 2029, 6113, 6934, 2005, 4899, 2052, 4088, 102, 2044, 2176, 20347, 2027, 14311, 2402, 1999, 1996, 20116, 2213, 1998, 1010, 2044, 1996, 20116, 2213, 2949, 2049, 102]\n",
            "['[CLS]', '8', 'nmi', ')', 'of', 'the', 'lunar', 'surface', ',', 'the', 'point', 'at', 'which', 'powered', 'descent', 'for', 'landing', 'would', 'begin', '[SEP]', 'after', 'four', 'orbits', 'they', 'rejoined', 'young', 'in', 'the', 'cs', '##m', 'and', ',', 'after', 'the', 'cs', '##m', 'completed', 'its', '[SEP]']\n",
            "NSP Label: 1.0\n",
            "\n",
            "\n",
            "\n"
          ]
        }
      ],
      "source": [
        "for i in range(2, 5):\n",
        "  print(f\"----- NSP Seqeunce {((i + 1) % 3) + 1} -----\")\n",
        "  print(tokens_nsp[i])\n",
        "  print(tokenizer.convert_ids_to_tokens(tokens_nsp[i]))\n",
        "  print(f\"NSP Label: {nsp_labels[i].item()}\")\n",
        "  print(\"\\n\\n\")"
      ]
    },
    {
      "cell_type": "code",
      "execution_count": null,
      "metadata": {
        "id": "mHKybIa4gUxI"
      },
      "outputs": [],
      "source": [
        "def prepare_mlm(tokens):\n",
        "  token_tensors    = torch.tensor(tokens)\n",
        "  original_tensors = torch.tensor(tokens)\n",
        "\n",
        "  total_len  = token_tensors.shape[0] * token_tensors.shape[1]\n",
        "  masked_num = int(0.15 * total_len)\n",
        "  mask_len, preserve_len = int(0.8 * masked_num), int(0.1 * masked_num)\n",
        "\n",
        "  B, T = token_tensors.shape\n",
        "  flattened = token_tensors.flatten()\n",
        "\n",
        "  mask_idx = torch.randint(0,   len(flattened),  (mask_len,))\n",
        "  pres_idx = torch.randint(0,   len(flattened),  (preserve_len,))\n",
        "  rand_val = torch.randint(103, flattened.max(), (preserve_len,))\n",
        "\n",
        "  masked_labels = torch.zeros_like(flattened)\n",
        "  masked_labels[mask_idx] = flattened[mask_idx]\n",
        "  masked_labels[pres_idx] = flattened[pres_idx]\n",
        "\n",
        "  flattened[mask_idx] = 103\n",
        "  flattened[pres_idx] = rand_val\n",
        "\n",
        "  return flattened.view((B, T)), masked_labels.view((B, T))"
      ]
    },
    {
      "cell_type": "code",
      "execution_count": null,
      "metadata": {
        "id": "RukBJrOngVRp"
      },
      "outputs": [],
      "source": [
        "tokens_mlm, mlm_labeled_tokens = prepare_mlm(tokens_nsp)"
      ]
    },
    {
      "cell_type": "code",
      "execution_count": null,
      "metadata": {
        "colab": {
          "base_uri": "https://localhost:8080/"
        },
        "id": "Mj_xt9Qsgke3",
        "outputId": "d7243589-70b1-4ebb-c543-6f1b7194796a"
      },
      "outputs": [
        {
          "name": "stdout",
          "output_type": "stream",
          "text": [
            "----- MLM Seqeunce 1 -----\n",
            "['[CLS]', 'apollo', '10', '(', 'may', '[MASK]', '–', '[MASK]', ',', '1969', ')', 'seminary', 'the', 'fourth', '[MASK]', 'space', '##flight', 'in', 'the', '[SEP]', 'nasa', ',', '[MASK]', 'mission', '[MASK]', 's', 'operator', ',', 'described', 'it', 'as', 'a', '\"', 'dress', 'rehearsal', '\"', 'for', 'the', '[SEP]']\n",
            "['[PAD]', '[PAD]', '[PAD]', '[PAD]', '[PAD]', '18', '[PAD]', '26', '[PAD]', '[PAD]', '[PAD]', 'was', '[PAD]', '[PAD]', 'human', '[PAD]', '[PAD]', '[PAD]', '[PAD]', '[PAD]', '[PAD]', '[PAD]', 'the', '[PAD]', \"'\", '[PAD]', '[PAD]', '[PAD]', '[PAD]', '[PAD]', '[PAD]', '[PAD]', '[PAD]', '[PAD]', '[PAD]', '[PAD]', '[PAD]', '[PAD]', '[PAD]']\n",
            "\n",
            "\n",
            "\n",
            "----- MLM Seqeunce 2 -----\n",
            "['[CLS]', 'nasa', ',', 'the', 'mission', '[MASK]', 's', '[MASK]', ',', 'described', 'it', 'as', 'a', '\"', 'dress', 'rehearsal', '\"', 'for', 'the', '[SEP]', '[MASK]', '[MASK]', '2010', ',', 'viva', 'elvis', ':', 'the', 'album', 'was', 'released', ',', '[MASK]', 'his', 'voice', '[MASK]', 'newly', '[MASK]', '[SEP]']\n",
            "['[PAD]', '[PAD]', '[PAD]', '[PAD]', '[PAD]', \"'\", '[PAD]', 'operator', '[PAD]', '[PAD]', '[PAD]', '[PAD]', '[PAD]', '[PAD]', '[PAD]', '[PAD]', '[PAD]', '[PAD]', '[PAD]', '[PAD]', 'in', 'november', '[PAD]', '[PAD]', '[PAD]', '[PAD]', '[PAD]', '[PAD]', '[PAD]', '[PAD]', '[PAD]', '[PAD]', 'setting', '[PAD]', '[PAD]', 'to', '[PAD]', 'recorded', '[PAD]']\n",
            "\n",
            "\n",
            "\n",
            "----- MLM Seqeunce 3 -----\n",
            "['[MASK]', 'it', 'was', 'designated', 'an', '\"', '[MASK]', '\"', 'mission', ',', 'intended', 'to', 'test', 'all', '[MASK]', 'components', 'and', 'procedures', 'short', '[SEP]', 'after', 'the', 'spacecraft', 'reached', 'clube', 'orbit', ',', 'astronaut', 'john', 'young', 'remained', 'in', 'the', '[MASK]', 'and', 'service', 'module', '(', '[MASK]']\n",
            "['[CLS]', '[PAD]', '[PAD]', '[PAD]', '[PAD]', '[PAD]', 'f', '[PAD]', '[PAD]', '[PAD]', '[PAD]', '[PAD]', '[PAD]', '[PAD]', 'spacecraft', '[PAD]', '[PAD]', '[PAD]', '[PAD]', '[PAD]', '[PAD]', '[PAD]', '[PAD]', '[PAD]', 'lunar', '[PAD]', '[PAD]', '[PAD]', '[PAD]', '[PAD]', '[PAD]', '[PAD]', '[PAD]', 'command', '[PAD]', '[PAD]', '[PAD]', '[PAD]', '[SEP]']\n",
            "\n",
            "\n",
            "\n"
          ]
        }
      ],
      "source": [
        "for i in range(3):\n",
        "  print(f\"----- MLM Seqeunce {(i + 1)} -----\")\n",
        "  print(tokenizer.convert_ids_to_tokens(tokens_mlm[i].detach().cpu().numpy()))\n",
        "  print(tokenizer.convert_ids_to_tokens(mlm_labeled_tokens[i].detach().cpu().numpy()))\n",
        "  print(\"\\n\\n\")"
      ]
    },
    {
      "cell_type": "code",
      "execution_count": null,
      "metadata": {
        "colab": {
          "base_uri": "https://localhost:8080/"
        },
        "id": "IldwFLikn_wX",
        "outputId": "d99eb6db-3af3-4851-b58e-3c96089280eb"
      },
      "outputs": [
        {
          "data": {
            "text/plain": [
              "tensor([  101,  9348,  2184,  1006,  2089,   103,  1516,   103,  1010,  3440,\n",
              "         1007,  8705,  1996,  2959,   103,  2686, 28968,  1999,  1996,   102,\n",
              "         9274,  1010,   103,  3260,   103,  1055,  6872,  1010,  2649,  2009,\n",
              "         2004,  1037,  1000,  4377, 17887,  1000,  2005,  1996,   102])"
            ]
          },
          "execution_count": 210,
          "metadata": {},
          "output_type": "execute_result"
        }
      ],
      "source": [
        "tokens_mlm[0]"
      ]
    },
    {
      "cell_type": "code",
      "execution_count": null,
      "metadata": {
        "id": "MDz94Tjap50U"
      },
      "outputs": [],
      "source": [
        "def final_sequences(token_tensors, token_tensor_labels, nsp_labels):\n",
        "  bad = set()\n",
        "  for (idx, i) in enumerate(token_tensors):\n",
        "    c = Counter()\n",
        "    c.update(i.detach().cpu().numpy())\n",
        "    if c[101] > 1 or c[101] < 1 or c[102] > 2 or c[102] < 2:\n",
        "      bad.add(idx)\n",
        "\n",
        "  new_tensor = []\n",
        "  new_tensor_labels = []\n",
        "  new_nsp_labels = []\n",
        "  for i in range(len(token_tensors)):\n",
        "    if i not in bad:\n",
        "      new_tensor.append(token_tensors[i])\n",
        "      new_tensor_labels.append(token_tensor_labels[i])\n",
        "      new_nsp_labels.append(nsp_labels[i])\n",
        "\n",
        "  new_tensor = torch.stack(new_tensor)\n",
        "  new_tensor_labels = torch.stack(new_tensor_labels)\n",
        "  new_nsp_labels = torch.stack(new_nsp_labels)\n",
        "\n",
        "  return new_tensor, new_tensor_labels, new_nsp_labels"
      ]
    },
    {
      "cell_type": "code",
      "execution_count": null,
      "metadata": {
        "id": "hPxvS3sXjMEB"
      },
      "outputs": [],
      "source": [
        "fin_tokens, fin_mlm_labels, fin_nsp_labels = final_sequences(tokens_mlm,\n",
        "                                         mlm_labeled_tokens, nsp_labels)"
      ]
    },
    {
      "cell_type": "code",
      "execution_count": null,
      "metadata": {
        "colab": {
          "base_uri": "https://localhost:8080/"
        },
        "id": "IjxqIGNEjhGr",
        "outputId": "ba3f1276-faaa-470d-b796-ed3ee7d56b58"
      },
      "outputs": [
        {
          "name": "stdout",
          "output_type": "stream",
          "text": [
            "----- Final Seqeunce 1 -----\n",
            "['[CLS]', 'apollo', '10', '(', 'may', '[MASK]', '–', '[MASK]', ',', '1969', ')', 'seminary', 'the', 'fourth', '[MASK]', 'space', '##flight', 'in', 'the', '[SEP]', 'nasa', ',', '[MASK]', 'mission', '[MASK]', 's', 'operator', ',', 'described', 'it', 'as', 'a', '\"', 'dress', 'rehearsal', '\"', 'for', 'the', '[SEP]']\n",
            "['[PAD]', '[PAD]', '[PAD]', '[PAD]', '[PAD]', '18', '[PAD]', '26', '[PAD]', '[PAD]', '[PAD]', 'was', '[PAD]', '[PAD]', 'human', '[PAD]', '[PAD]', '[PAD]', '[PAD]', '[PAD]', '[PAD]', '[PAD]', 'the', '[PAD]', \"'\", '[PAD]', '[PAD]', '[PAD]', '[PAD]', '[PAD]', '[PAD]', '[PAD]', '[PAD]', '[PAD]', '[PAD]', '[PAD]', '[PAD]', '[PAD]', '[PAD]']\n",
            "1.0\n",
            "\n",
            "\n",
            "\n",
            "----- Final Seqeunce 2 -----\n",
            "['[CLS]', 'nasa', ',', 'the', 'mission', '[MASK]', 's', '[MASK]', ',', 'described', 'it', 'as', 'a', '\"', 'dress', 'rehearsal', '\"', 'for', 'the', '[SEP]', '[MASK]', '[MASK]', '2010', ',', 'viva', 'elvis', ':', 'the', 'album', 'was', 'released', ',', '[MASK]', 'his', 'voice', '[MASK]', 'newly', '[MASK]', '[SEP]']\n",
            "['[PAD]', '[PAD]', '[PAD]', '[PAD]', '[PAD]', \"'\", '[PAD]', 'operator', '[PAD]', '[PAD]', '[PAD]', '[PAD]', '[PAD]', '[PAD]', '[PAD]', '[PAD]', '[PAD]', '[PAD]', '[PAD]', '[PAD]', 'in', 'november', '[PAD]', '[PAD]', '[PAD]', '[PAD]', '[PAD]', '[PAD]', '[PAD]', '[PAD]', '[PAD]', '[PAD]', 'setting', '[PAD]', '[PAD]', 'to', '[PAD]', 'recorded', '[PAD]']\n",
            "0.0\n",
            "\n",
            "\n",
            "\n",
            "----- Final Seqeunce 3 -----\n",
            "['[CLS]', 'the', 'crew', 'encountered', 'some', 'problems', 'during', 'the', 'flight', ':', 'po', '##go', 'os', '##ci', '##llation', '##s', 'during', 'the', '[MASK]', '[SEP]', '\"', 'the', '[MASK]', 'and', 'early', 'evolution', 'of', 'birds', ':', 'discoveries', ',', 'disputes', ',', 'and', 'perspectives', 'from', 'fossil', 'evidence', '[SEP]']\n",
            "['[PAD]', '[PAD]', '[PAD]', '[PAD]', '[PAD]', '[PAD]', '[PAD]', '[PAD]', '[PAD]', '[PAD]', '[PAD]', '[PAD]', '[PAD]', '[PAD]', '[PAD]', '[PAD]', '[PAD]', '[PAD]', 'launch', '[PAD]', '[PAD]', '[PAD]', 'origin', '[PAD]', '[PAD]', '[PAD]', '[PAD]', '[PAD]', '[PAD]', '[PAD]', '[PAD]', '[PAD]', '[PAD]', '[PAD]', '[PAD]', '[PAD]', '[PAD]', '[PAD]', '[PAD]']\n",
            "0.0\n",
            "\n",
            "\n",
            "\n"
          ]
        }
      ],
      "source": [
        "for i in range(3):\n",
        "  print(f\"----- Final Seqeunce {(i + 1)} -----\")\n",
        "  print(tokenizer.convert_ids_to_tokens(fin_tokens[i].detach().cpu().numpy()))\n",
        "  print(tokenizer.convert_ids_to_tokens(fin_mlm_labels[i].detach().cpu().numpy()))\n",
        "  print(fin_nsp_labels[i].item())\n",
        "  print(\"\\n\\n\")"
      ]
    },
    {
      "cell_type": "code",
      "execution_count": null,
      "metadata": {
        "id": "TxjTqjPQOu55"
      },
      "outputs": [],
      "source": [
        "class BERTDataset(Dataset):\n",
        "  def __init__(self, text, pad_len, ignore_len):\n",
        "    tokens      = tokenize_text(text)\n",
        "    pad_tokens  = pad_sequences(tokens, pad_len, ignore_len)\n",
        "    sent_pairs  = generate_sentence_pairs(pad_tokens)\n",
        "    nsp_tokens, nsp_labels = prepare_nsp(sent_pairs)\n",
        "    mlm_tokens, mlm_labels = prepare_mlm(nsp_tokens)\n",
        "    fin_tokens, fin_labels, nsp_labels = final_sequences(mlm_tokens,\n",
        "                                             mlm_labels, nsp_labels)\n",
        "\n",
        "    self.fin_tokens = fin_tokens.to(DEVICE)\n",
        "    self.fin_labels = fin_labels.to(DEVICE)\n",
        "    self.nsp_labels = nsp_labels.to(DEVICE)\n",
        "\n",
        "  def __len__(self):\n",
        "    return self.fin_tokens.shape[0]\n",
        "\n",
        "  def __getitem__(self, idx):\n",
        "    return (self.fin_tokens[idx],\n",
        "            self.fin_labels[idx],\n",
        "            self.nsp_labels[idx])"
      ]
    },
    {
      "cell_type": "code",
      "execution_count": null,
      "metadata": {
        "id": "d-BHNGJZQb9U"
      },
      "outputs": [],
      "source": [
        "train_data = DataLoader(BERTDataset(train_text, SEQ_LEN, IGNORE_LEN),  batch_size=BATCH_SIZE, shuffle=True)\n",
        "test_data  = DataLoader(BERTDataset(test_text,  SEQ_LEN, IGNORE_LEN),  batch_size=BATCH_SIZE, shuffle=True)"
      ]
    },
    {
      "cell_type": "code",
      "execution_count": null,
      "metadata": {
        "colab": {
          "base_uri": "https://localhost:8080/"
        },
        "id": "BURRM4p8P9qE",
        "outputId": "3166d85b-9ef4-4d75-c61c-c3b866d3298a"
      },
      "outputs": [
        {
          "name": "stdout",
          "output_type": "stream",
          "text": [
            "['[CLS]', 'it', 'is', 'not', 'known', 'if', '[MASK]', 'members', 'of', 'the', 'aristocracy', 'could', 'read', 'and', 'write', ',', 'although', 'at', 'least', '[SEP]', 'however', ',', 'because', '[MASK]', 'fusion', '[MASK]', '[MASK]', 'much', 'faster', 'than', 'the', '[MASK]', 'ions', ',', 'they', 'will', 'realistic', 'up', '[SEP]']\n",
            "['[PAD]', '[PAD]', '[PAD]', '[PAD]', '[PAD]', '[PAD]', 'all', '[PAD]', '[PAD]', '[PAD]', '[PAD]', '[PAD]', '[PAD]', '[PAD]', '[PAD]', '[PAD]', '[PAD]', '[PAD]', '[PAD]', '[PAD]', '[PAD]', '[PAD]', '[PAD]', 'the', '[PAD]', 'products', 'move', '[PAD]', '[PAD]', '[PAD]', '[PAD]', 'fuel', '[PAD]', '[PAD]', '[PAD]', '[PAD]', 'give', '[PAD]', '[PAD]']\n",
            "0.0\n"
          ]
        }
      ],
      "source": [
        "tokenizer = WordPieceTokenizer()\n",
        "\n",
        "for (idx, (x,y,z)) in enumerate(train_data):\n",
        "  for sentence in x:\n",
        "    print(tokenizer.convert_ids_to_tokens(x[0].detach().cpu().numpy()))\n",
        "    print(tokenizer.convert_ids_to_tokens(y[0].detach().cpu().numpy()))\n",
        "    print(z[0].detach().cpu().numpy())\n",
        "    break\n",
        "  break"
      ]
    },
    {
      "cell_type": "markdown",
      "metadata": {
        "id": "tmuqUinbS6ZM"
      },
      "source": [
        "</br></br>\n",
        "\n",
        "### Create Transformer Encoder Architecture\n",
        "---"
      ]
    },
    {
      "cell_type": "code",
      "execution_count": null,
      "metadata": {
        "id": "Frk4X2S0S-xH"
      },
      "outputs": [],
      "source": [
        "class FFNN(nn.Module):\n",
        "  def __init__(self, emb_dim, hidden_dim):\n",
        "    super().__init__()\n",
        "    self.l1 = nn.Linear(emb_dim, hidden_dim)\n",
        "    self.l2 = nn.Linear(hidden_dim, emb_dim)\n",
        "\n",
        "  def forward(self, x):\n",
        "    o1 = F.gelu(self.l1(x))\n",
        "    o2 = F.gelu(self.l2(o1))\n",
        "\n",
        "    return o2\n",
        "\n",
        "\n",
        "class AttentionHead(nn.Module):\n",
        "  def __init__(self, emb_dim, att_dim):\n",
        "    super().__init__()\n",
        "    self.d_k   = att_dim\n",
        "    self.query = nn.Linear(emb_dim, att_dim)\n",
        "    self.key   = nn.Linear(emb_dim, att_dim)\n",
        "    self.value = nn.Linear(emb_dim, att_dim)\n",
        "\n",
        "  def forward(self, x):\n",
        "    Q = self.query(x)\n",
        "    K = self.key(x)\n",
        "    V = self.value(x)\n",
        "\n",
        "    normalize = torch.sqrt(torch.tensor(self.d_k))\n",
        "    K_T = torch.transpose(K, -1, -2)\n",
        "    att_scores = F.softmax((Q @ K_T) / normalize, dim=-1) @ V\n",
        "\n",
        "    return att_scores\n",
        "\n",
        "\n",
        "class MultiHeadAttention(nn.Module):\n",
        "  def __init__(self, emb_dim, num_heads):\n",
        "    super().__init__()\n",
        "    att_dim = emb_dim // num_heads\n",
        "    self.att_heads = nn.ModuleList(\n",
        "        [AttentionHead(emb_dim, att_dim) for i in range(num_heads)]\n",
        "    )\n",
        "\n",
        "  def forward(self, x):\n",
        "    att_outs = []\n",
        "    for attention_head in self.att_heads:\n",
        "      output = attention_head(x)\n",
        "      att_outs.append(output)\n",
        "\n",
        "    output_concat = torch.cat(att_outs, dim=-1)\n",
        "    return output_concat\n",
        "\n",
        "\n",
        "class TransformerBlock(nn.Module):\n",
        "  def __init__(self, emb_dim, num_heads):\n",
        "    super().__init__()\n",
        "    self.multi_head_att = MultiHeadAttention(emb_dim, num_heads)\n",
        "    self.ln1  = nn.LayerNorm(emb_dim)\n",
        "    self.ffnn = FFNN(emb_dim, emb_dim * 4)\n",
        "    self.ln2  = nn.LayerNorm(emb_dim)\n",
        "\n",
        "  def forward(self, x):\n",
        "    att_out = self.multi_head_att(x)\n",
        "    o1      = self.ln1(att_out + x)\n",
        "    nn_out  = self.ffnn(o1)\n",
        "    o2      = self.ln2(nn_out + o1)\n",
        "\n",
        "    return o2\n",
        "\n",
        "\n",
        "class BERT(nn.Module):\n",
        "  def __init__(self, emb_dim, vocab_size, seq_len, num_heads):\n",
        "    super().__init__()\n",
        "    self.emb       = nn.Embedding(vocab_size, emb_dim)\n",
        "    self.seg_emb   = nn.Embedding(2, emb_dim)\n",
        "    self.pos_emb   = nn.Embedding(seq_len, emb_dim)\n",
        "    self.blocks    = nn.ModuleList([TransformerBlock(emb_dim, num_heads)\\\n",
        "                                             for i in range(NUM_BLOCKS)])\n",
        "    self.l_out     = nn.Linear(emb_dim, vocab_size)\n",
        "    self.nsp_out   = nn.Linear(vocab_size, 1)\n",
        "    self.dropout   = nn.Dropout(0.2)\n",
        "\n",
        "  def forward(self, x):\n",
        "    B, T = x.shape\n",
        "    x_emb   = self.emb(x)\n",
        "\n",
        "    seg_idx = torch.zeros((T,))\n",
        "    seg_idx[T // 2 ::] = 1\n",
        "    seg_idx = seg_idx.to(DEVICE)\n",
        "    x_seg = self.seg_emb(seg_idx.int())\n",
        "\n",
        "    pos_idx = torch.tensor(range(x.shape[1])).to(DEVICE)\n",
        "    pos_emb = self.pos_emb(pos_idx)\n",
        "\n",
        "    x = x_emb + pos_emb + x_seg\n",
        "\n",
        "    for block in self.blocks:\n",
        "      x = block(x)\n",
        "\n",
        "    transformer_out = self.dropout(x)\n",
        "\n",
        "    logits = self.l_out(transformer_out)\n",
        "    probs  = F.softmax(logits, dim=-1)\n",
        "\n",
        "    nsp_out  = self.nsp_out(logits[:,0,:])\n",
        "    nsp_pred = F.sigmoid(nsp_out)\n",
        "\n",
        "    return nsp_pred, probs"
      ]
    },
    {
      "cell_type": "markdown",
      "metadata": {
        "id": "HJJ-a27J_JlJ"
      },
      "source": [
        "</br></br>\n",
        "\n",
        "### Train Encoder Transformer\n",
        "---"
      ]
    },
    {
      "cell_type": "code",
      "execution_count": null,
      "metadata": {
        "colab": {
          "base_uri": "https://localhost:8080/"
        },
        "id": "FilcvtIh_Y_7",
        "outputId": "dce11861-1a4c-4df4-a443-dfd7a94027c3"
      },
      "outputs": [
        {
          "data": {
            "text/plain": [
              "tensor(29735, device='cuda:0')"
            ]
          },
          "execution_count": 218,
          "metadata": {},
          "output_type": "execute_result"
        }
      ],
      "source": [
        "vocab_size = 0\n",
        "for x, _, _ in train_data:\n",
        "  vocab_size = max(vocab_size, x.max())\n",
        "vocab_size += 1\n",
        "vocab_size"
      ]
    },
    {
      "cell_type": "code",
      "execution_count": null,
      "metadata": {
        "id": "wOV9n4sp_W1X"
      },
      "outputs": [],
      "source": [
        "model = BERT(EMB_DIM, vocab_size, (SEQ_LEN * 2) - 1, NUM_HEADS).to(DEVICE)\n",
        "optim = torch.optim.Adam(model.parameters(), lr=LEARNING_RATE)"
      ]
    },
    {
      "cell_type": "code",
      "execution_count": null,
      "metadata": {
        "colab": {
          "base_uri": "https://localhost:8080/"
        },
        "id": "QN2KnzzQnAta",
        "outputId": "eac478e2-89be-4b66-d8e1-e0f2847716fa"
      },
      "outputs": [
        {
          "data": {
            "text/plain": [
              "4051471"
            ]
          },
          "execution_count": 220,
          "metadata": {},
          "output_type": "execute_result"
        }
      ],
      "source": [
        "total_params = 0\n",
        "for i in model.parameters():\n",
        "  total_params += i.numel()\n",
        "\n",
        "total_params"
      ]
    },
    {
      "cell_type": "code",
      "execution_count": null,
      "metadata": {
        "id": "OnWDNw8q_JFS"
      },
      "outputs": [],
      "source": [
        "def train_iteration(model, optim, x, y_mlm, y_nsp):\n",
        "  nsp_pred, output = model(x)\n",
        "  B, T, C = output.shape\n",
        "\n",
        "  y_nsp     = y_nsp.view((-1, 1))\n",
        "  nsp_loss  = F.binary_cross_entropy(nsp_pred, y_nsp)\n",
        "\n",
        "  x_flat   = x.reshape((-1))\n",
        "  indices  = torch.nonzero(x_flat == 103, as_tuple=False).squeeze()\n",
        "  mlm_loss = F.cross_entropy(output.view((-1, C))[indices],\n",
        "                                   y_mlm.view(-1)[indices])\n",
        "\n",
        "  loss = nsp_loss + mlm_loss\n",
        "\n",
        "  optim.zero_grad()\n",
        "  loss.backward()\n",
        "  optim.step()\n",
        "\n",
        "  return nsp_loss.item(), mlm_loss.item(), loss.item()"
      ]
    },
    {
      "cell_type": "code",
      "execution_count": null,
      "metadata": {
        "colab": {
          "base_uri": "https://localhost:8080/"
        },
        "id": "URzoxA-O_UT1",
        "outputId": "d9430485-0c0b-4fb2-8322-011a802aa101"
      },
      "outputs": [
        {
          "name": "stdout",
          "output_type": "stream",
          "text": [
            "EPOCH: 0  |  NSP LOSS: 0.801   |  MLM LOSS: 10.3    |  LOSS: 11.101\n",
            "EPOCH: 1  |  NSP LOSS: 0.752   |  MLM LOSS: 10.3    |  LOSS: 11.052\n",
            "EPOCH: 2  |  NSP LOSS: 0.787   |  MLM LOSS: 10.3    |  LOSS: 11.087\n",
            "EPOCH: 3  |  NSP LOSS: 0.743   |  MLM LOSS: 10.3    |  LOSS: 11.043\n",
            "EPOCH: 4  |  NSP LOSS: 0.802   |  MLM LOSS: 10.3    |  LOSS: 11.102\n",
            "EPOCH: 5  |  NSP LOSS: 0.719   |  MLM LOSS: 10.3    |  LOSS: 11.019\n",
            "EPOCH: 6  |  NSP LOSS: 0.773   |  MLM LOSS: 10.3    |  LOSS: 11.073\n",
            "EPOCH: 7  |  NSP LOSS: 0.705   |  MLM LOSS: 10.3    |  LOSS: 11.005\n",
            "EPOCH: 8  |  NSP LOSS: 0.736   |  MLM LOSS: 10.3    |  LOSS: 11.037\n",
            "EPOCH: 9  |  NSP LOSS: 0.709   |  MLM LOSS: 10.3    |  LOSS: 11.009\n",
            "EPOCH: 10  |  NSP LOSS: 0.712   |  MLM LOSS: 10.3    |  LOSS: 11.012\n",
            "EPOCH: 11  |  NSP LOSS: 0.692   |  MLM LOSS: 10.3    |  LOSS: 10.992\n",
            "EPOCH: 12  |  NSP LOSS: 0.664   |  MLM LOSS: 10.3    |  LOSS: 10.964\n",
            "EPOCH: 13  |  NSP LOSS: 0.632   |  MLM LOSS: 10.3    |  LOSS: 10.932\n",
            "EPOCH: 14  |  NSP LOSS: 0.58   |  MLM LOSS: 10.3    |  LOSS: 10.88\n",
            "EPOCH: 15  |  NSP LOSS: 0.512   |  MLM LOSS: 10.3    |  LOSS: 10.812\n",
            "EPOCH: 16  |  NSP LOSS: 0.465   |  MLM LOSS: 10.3    |  LOSS: 10.765\n",
            "EPOCH: 17  |  NSP LOSS: 0.381   |  MLM LOSS: 10.3    |  LOSS: 10.681\n",
            "EPOCH: 18  |  NSP LOSS: 0.296   |  MLM LOSS: 10.3    |  LOSS: 10.596\n",
            "EPOCH: 19  |  NSP LOSS: 0.223   |  MLM LOSS: 10.3    |  LOSS: 10.524\n",
            "EPOCH: 20  |  NSP LOSS: 0.139   |  MLM LOSS: 10.3    |  LOSS: 10.439\n",
            "EPOCH: 21  |  NSP LOSS: 0.107   |  MLM LOSS: 10.3    |  LOSS: 10.407\n",
            "EPOCH: 22  |  NSP LOSS: 0.071   |  MLM LOSS: 10.3    |  LOSS: 10.371\n",
            "EPOCH: 23  |  NSP LOSS: 0.032   |  MLM LOSS: 10.293    |  LOSS: 10.324\n",
            "EPOCH: 24  |  NSP LOSS: 0.049   |  MLM LOSS: 10.242    |  LOSS: 10.291\n",
            "EPOCH: 25  |  NSP LOSS: 0.08   |  MLM LOSS: 10.235    |  LOSS: 10.315\n",
            "EPOCH: 26  |  NSP LOSS: 0.031   |  MLM LOSS: 10.234    |  LOSS: 10.264\n",
            "EPOCH: 27  |  NSP LOSS: 0.01   |  MLM LOSS: 10.233    |  LOSS: 10.243\n",
            "EPOCH: 28  |  NSP LOSS: 0.001   |  MLM LOSS: 10.233    |  LOSS: 10.235\n",
            "EPOCH: 29  |  NSP LOSS: 0.001   |  MLM LOSS: 10.233    |  LOSS: 10.234\n",
            "EPOCH: 30  |  NSP LOSS: 0.0   |  MLM LOSS: 10.233    |  LOSS: 10.234\n",
            "EPOCH: 31  |  NSP LOSS: 0.0   |  MLM LOSS: 10.232    |  LOSS: 10.232\n",
            "EPOCH: 32  |  NSP LOSS: 0.0   |  MLM LOSS: 10.233    |  LOSS: 10.233\n",
            "EPOCH: 33  |  NSP LOSS: 0.0   |  MLM LOSS: 10.233    |  LOSS: 10.233\n",
            "EPOCH: 34  |  NSP LOSS: 0.0   |  MLM LOSS: 10.233    |  LOSS: 10.233\n",
            "EPOCH: 35  |  NSP LOSS: 0.0   |  MLM LOSS: 10.232    |  LOSS: 10.232\n",
            "EPOCH: 36  |  NSP LOSS: 0.0   |  MLM LOSS: 10.232    |  LOSS: 10.232\n",
            "EPOCH: 37  |  NSP LOSS: 0.0   |  MLM LOSS: 10.232    |  LOSS: 10.232\n",
            "EPOCH: 38  |  NSP LOSS: 0.0   |  MLM LOSS: 10.232    |  LOSS: 10.232\n",
            "EPOCH: 39  |  NSP LOSS: 0.0   |  MLM LOSS: 10.233    |  LOSS: 10.233\n",
            "EPOCH: 40  |  NSP LOSS: 0.0   |  MLM LOSS: 10.232    |  LOSS: 10.232\n",
            "EPOCH: 41  |  NSP LOSS: 0.0   |  MLM LOSS: 10.233    |  LOSS: 10.233\n",
            "EPOCH: 42  |  NSP LOSS: 0.0   |  MLM LOSS: 10.231    |  LOSS: 10.231\n",
            "EPOCH: 43  |  NSP LOSS: 0.0   |  MLM LOSS: 10.232    |  LOSS: 10.232\n",
            "EPOCH: 44  |  NSP LOSS: 0.0   |  MLM LOSS: 10.233    |  LOSS: 10.233\n",
            "EPOCH: 45  |  NSP LOSS: 0.0   |  MLM LOSS: 10.233    |  LOSS: 10.233\n",
            "EPOCH: 46  |  NSP LOSS: 0.0   |  MLM LOSS: 10.232    |  LOSS: 10.232\n",
            "EPOCH: 47  |  NSP LOSS: 0.0   |  MLM LOSS: 10.233    |  LOSS: 10.233\n",
            "EPOCH: 48  |  NSP LOSS: 0.0   |  MLM LOSS: 10.233    |  LOSS: 10.233\n",
            "EPOCH: 49  |  NSP LOSS: 0.0   |  MLM LOSS: 10.233    |  LOSS: 10.233\n"
          ]
        }
      ],
      "source": [
        "overall_losses = []\n",
        "for epoch in range(EPOCHS):\n",
        "  iteration = 0\n",
        "  losses    = []\n",
        "  for x, y_mlm, y_nsp in train_data:\n",
        "    nsp_loss, mlm_loss, loss = train_iteration(model, optim,\n",
        "                                               x, y_mlm, y_nsp)\n",
        "\n",
        "    losses.append([nsp_loss, mlm_loss, loss])\n",
        "    overall_losses.append([nsp_loss, mlm_loss, loss])\n",
        "    iteration += 1\n",
        "\n",
        "  losses = torch.tensor(losses)\n",
        "  nsp_avg, mlm_avg, loss_avg = (losses[:,0].mean(),\n",
        "                                losses[:,1].mean(),\n",
        "                                losses[:,2].mean())\n",
        "\n",
        "  print(f\"EPOCH: {epoch}  |  NSP LOSS: {round(nsp_avg.item(), 3)} \\\n",
        "  |  MLM LOSS: {round(mlm_avg.item(), 3)}  \\\n",
        "  |  LOSS: {round(loss_avg.item(),    3)}\")"
      ]
    },
    {
      "cell_type": "code",
      "execution_count": null,
      "metadata": {
        "colab": {
          "base_uri": "https://localhost:8080/",
          "height": 472
        },
        "id": "DYV75-_0OWtx",
        "outputId": "f18923c1-b4b9-449f-846d-7423537647cd"
      },
      "outputs": [
        {
          "data": {
            "image/png": "[encoded data removed]",
            "text/plain": [
              "<Figure size 640x480 with 1 Axes>"
            ]
          },
          "metadata": {},
          "output_type": "display_data"
        }
      ],
      "source": [
        "overall_losses = torch.tensor(overall_losses)\n",
        "nsp_losses     = overall_losses[:,0].detach().cpu().numpy()\n",
        "mlm_losses     = overall_losses[:,1].detach().cpu().numpy()\n",
        "total_losses   = overall_losses[:,2].detach().cpu().numpy()\n",
        "\n",
        "plt.plot(nsp_losses,     label='nsp')\n",
        "plt.plot(mlm_losses,     label='mlm')\n",
        "plt.plot(total_losses,   label='loss')\n",
        "plt.xlabel(\"Iteration\")\n",
        "plt.ylabel(\"Loss value\")\n",
        "plt.title(\"BERT Loss Over Time\")\n",
        "plt.grid(True)\n",
        "plt.legend();"
      ]
    },
    {
      "cell_type": "code",
      "execution_count": null,
      "metadata": {
        "colab": {
          "base_uri": "https://localhost:8080/"
        },
        "id": "zIa5fi3sKIx_",
        "outputId": "a020e97c-56bf-4131-ed24-63809e2b8482"
      },
      "outputs": [
        {
          "name": "stdout",
          "output_type": "stream",
          "text": [
            "['[MASK]', 'the', 'late', 'pre', '##class', '##ic', ',', 'this', '[MASK]', 'pitching', 'in', 'the', 'institution', 'of', '[MASK]', 'divine', 'king', ',', '[SEP]', 'there', 'were', 'thirteen', 'levels', 'suggesting', 'the', 'heavens', '[MASK]', 'nine', 'in', 'the', 'underworld', '[MASK]', 'with', '[MASK]', 'mortal', 'world', 'in', '[SEP]']\n",
            "['##uh', 'the', 'the', 'the', 'the', 'storylines', 'the', 'the', 'the', 'the', 'the', 'abortion', 'the', 'the', 'the', 'the', 'matthews', 'the', 'the', 'the', 'the', 'the', 'the', '##rangle', 'the', 'the', 'baronet', 'the', 'the', 'bravery', 'the', 'the', 'the', 'the', 'the', 'the', '##ttle', 'the', 'keen']\n",
            "['[PAD]', 'in', '[PAD]', '[PAD]', '[PAD]', '[PAD]', '[PAD]', '[PAD]', '[PAD]', 'process', 'culminated', '[PAD]', '[PAD]', '[PAD]', '[PAD]', 'the', '[PAD]', '[PAD]', '[PAD]', '[PAD]', '[PAD]', '[PAD]', '[PAD]', '[PAD]', 'in', '[PAD]', '[PAD]', 'and', '[PAD]', '[PAD]', '[PAD]', '[PAD]', ',', '[PAD]', 'the', '[PAD]', '[PAD]', '[PAD]', '[PAD]']\n"
          ]
        }
      ],
      "source": [
        "with torch.no_grad():\n",
        "  idx = 5\n",
        "  for x,y,z in train_data:\n",
        "    print(tokenizer.convert_ids_to_tokens(x[idx].detach().cpu().numpy())[1::])\n",
        "    output = model(x)[1]\n",
        "    print(tokenizer.convert_ids_to_tokens(torch.argmax(output, dim=-1).detach().cpu().numpy()[idx]))\n",
        "    print(tokenizer.convert_ids_to_tokens(y.detach().cpu().numpy()[idx]))\n",
        "    break"
      ]
    },
    {
      "cell_type": "markdown",
      "metadata": {
        "id": "-9Z9QGgubWdS"
      },
      "source": [
        "</br></br>\n",
        "\n",
        "### Fine-tuning BERT\n",
        "---"
      ]
    },
    {
      "cell_type": "code",
      "execution_count": null,
      "metadata": {
        "id": "IgAJzvUrkgYX"
      },
      "outputs": [],
      "source": []
    }
  ],
  "metadata": {
    "accelerator": "GPU",
    "colab": {
      "gpuType": "T4",
      "provenance": []
    },
    "kernelspec": {
      "display_name": "Python 3",
      "name": "python3"
    },
    "language_info": {
      "name": "python"
    }
  },
  "nbformat": 4,
  "nbformat_minor": 0
}
